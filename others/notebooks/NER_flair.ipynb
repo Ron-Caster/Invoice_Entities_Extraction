{
  "cells": [
    {
      "cell_type": "code",
      "execution_count": 1,
      "metadata": {
        "colab": {
          "base_uri": "https://localhost:8080/"
        },
        "id": "xbqXeONNUsAQ",
        "outputId": "a55c47a4-940b-4f35-b61f-70c37ce78bab"
      },
      "outputs": [
        {
          "name": "stdout",
          "output_type": "stream",
          "text": [
            "Defaulting to user installation because normal site-packages is not writeable\n",
            "Collecting flair\n",
            "  Downloading flair-0.13.1-py3-none-any.whl.metadata (12 kB)\n",
            "Collecting boto3>=1.20.27 (from flair)\n",
            "  Downloading boto3-1.34.58-py3-none-any.whl.metadata (6.6 kB)\n",
            "Collecting bpemb>=0.3.2 (from flair)\n",
            "  Downloading bpemb-0.3.4-py3-none-any.whl.metadata (19 kB)\n",
            "Collecting conllu>=4.0 (from flair)\n",
            "  Downloading conllu-4.5.3-py2.py3-none-any.whl.metadata (19 kB)\n",
            "Requirement already satisfied: deprecated>=1.2.13 in /home/dragon/.local/lib/python3.10/site-packages (from flair) (1.2.14)\n",
            "Collecting ftfy>=6.1.0 (from flair)\n",
            "  Downloading ftfy-6.1.3-py3-none-any.whl.metadata (6.2 kB)\n",
            "Collecting gdown>=4.4.0 (from flair)\n",
            "  Downloading gdown-5.1.0-py3-none-any.whl.metadata (5.7 kB)\n",
            "Collecting gensim>=4.2.0 (from flair)\n",
            "  Downloading gensim-4.3.2-cp310-cp310-manylinux_2_17_x86_64.manylinux2014_x86_64.whl.metadata (8.4 kB)\n",
            "Requirement already satisfied: huggingface-hub>=0.10.0 in /home/dragon/.local/lib/python3.10/site-packages (from flair) (0.21.3)\n",
            "Collecting janome>=0.4.2 (from flair)\n",
            "  Downloading Janome-0.5.0-py2.py3-none-any.whl.metadata (2.6 kB)\n",
            "Collecting langdetect>=1.0.9 (from flair)\n",
            "  Downloading langdetect-1.0.9.tar.gz (981 kB)\n",
            "\u001b[2K     \u001b[90m━━━━━━━━━━━━━━━━━━━━━━━━━━━━━━━━━━━━━━━\u001b[0m \u001b[32m981.5/981.5 kB\u001b[0m \u001b[31m6.5 MB/s\u001b[0m eta \u001b[36m0:00:00\u001b[0m00:01\u001b[0m00:01\u001b[0m\n",
            "\u001b[?25h  Preparing metadata (setup.py) ... \u001b[?25ldone\n",
            "\u001b[?25hRequirement already satisfied: lxml>=4.8.0 in /home/dragon/.local/lib/python3.10/site-packages (from flair) (5.1.0)\n",
            "Requirement already satisfied: matplotlib>=2.2.3 in /home/dragon/.local/lib/python3.10/site-packages (from flair) (3.8.3)\n",
            "Collecting more-itertools>=8.13.0 (from flair)\n",
            "  Downloading more_itertools-10.2.0-py3-none-any.whl.metadata (34 kB)\n",
            "Collecting mpld3>=0.3 (from flair)\n",
            "  Downloading mpld3-0.5.10-py3-none-any.whl.metadata (5.1 kB)\n",
            "Collecting pptree>=3.1 (from flair)\n",
            "  Downloading pptree-3.1.tar.gz (3.0 kB)\n",
            "  Preparing metadata (setup.py) ... \u001b[?25ldone\n",
            "\u001b[?25hRequirement already satisfied: python-dateutil>=2.8.2 in /home/dragon/.local/lib/python3.10/site-packages (from flair) (2.9.0.post0)\n",
            "Collecting pytorch-revgrad>=0.2.0 (from flair)\n",
            "  Downloading pytorch_revgrad-0.2.0-py3-none-any.whl.metadata (1.7 kB)\n",
            "Requirement already satisfied: regex>=2022.1.18 in /home/dragon/.local/lib/python3.10/site-packages (from flair) (2023.12.25)\n",
            "Requirement already satisfied: scikit-learn>=1.0.2 in /home/dragon/.local/lib/python3.10/site-packages (from flair) (1.4.1.post1)\n",
            "Collecting segtok>=1.5.11 (from flair)\n",
            "  Downloading segtok-1.5.11-py3-none-any.whl.metadata (9.0 kB)\n",
            "Collecting sqlitedict>=2.0.0 (from flair)\n",
            "  Downloading sqlitedict-2.1.0.tar.gz (21 kB)\n",
            "  Preparing metadata (setup.py) ... \u001b[?25ldone\n",
            "\u001b[?25hRequirement already satisfied: tabulate>=0.8.10 in /home/dragon/.local/lib/python3.10/site-packages (from flair) (0.9.0)\n",
            "Requirement already satisfied: torch!=1.8,>=1.5.0 in /home/dragon/.local/lib/python3.10/site-packages (from flair) (2.2.1)\n",
            "Requirement already satisfied: tqdm>=4.63.0 in /home/dragon/.local/lib/python3.10/site-packages (from flair) (4.66.2)\n",
            "Collecting transformer-smaller-training-vocab>=0.2.3 (from flair)\n",
            "  Downloading transformer_smaller_training_vocab-0.3.3-py3-none-any.whl.metadata (8.0 kB)\n",
            "Requirement already satisfied: transformers<5.0.0,>=4.18.0 in /home/dragon/.local/lib/python3.10/site-packages (from transformers[sentencepiece]<5.0.0,>=4.18.0->flair) (4.36.2)\n",
            "Requirement already satisfied: urllib3<2.0.0,>=1.0.0 in /usr/lib/python3/dist-packages (from flair) (1.26.5)\n",
            "Collecting wikipedia-api>=0.5.7 (from flair)\n",
            "  Downloading Wikipedia_API-0.6.0-py3-none-any.whl.metadata (22 kB)\n",
            "Collecting semver<4.0.0,>=3.0.0 (from flair)\n",
            "  Downloading semver-3.0.2-py3-none-any.whl.metadata (5.0 kB)\n",
            "Collecting botocore<1.35.0,>=1.34.58 (from boto3>=1.20.27->flair)\n",
            "  Downloading botocore-1.34.58-py3-none-any.whl.metadata (5.7 kB)\n",
            "Collecting jmespath<2.0.0,>=0.7.1 (from boto3>=1.20.27->flair)\n",
            "  Downloading jmespath-1.0.1-py3-none-any.whl.metadata (7.6 kB)\n",
            "Collecting s3transfer<0.11.0,>=0.10.0 (from boto3>=1.20.27->flair)\n",
            "  Downloading s3transfer-0.10.0-py3-none-any.whl.metadata (1.7 kB)\n",
            "Requirement already satisfied: numpy in /home/dragon/.local/lib/python3.10/site-packages (from bpemb>=0.3.2->flair) (1.26.4)\n",
            "Requirement already satisfied: requests in /usr/lib/python3/dist-packages (from bpemb>=0.3.2->flair) (2.25.1)\n",
            "Collecting sentencepiece (from bpemb>=0.3.2->flair)\n",
            "  Downloading sentencepiece-0.2.0-cp310-cp310-manylinux_2_17_x86_64.manylinux2014_x86_64.whl.metadata (7.7 kB)\n",
            "Requirement already satisfied: wrapt<2,>=1.10 in /home/dragon/.local/lib/python3.10/site-packages (from deprecated>=1.2.13->flair) (1.16.0)\n",
            "Requirement already satisfied: wcwidth<0.3.0,>=0.2.12 in /home/dragon/.local/lib/python3.10/site-packages (from ftfy>=6.1.0->flair) (0.2.13)\n",
            "Collecting beautifulsoup4 (from gdown>=4.4.0->flair)\n",
            "  Downloading beautifulsoup4-4.12.3-py3-none-any.whl.metadata (3.8 kB)\n",
            "Requirement already satisfied: filelock in /home/dragon/.local/lib/python3.10/site-packages (from gdown>=4.4.0->flair) (3.13.1)\n",
            "Requirement already satisfied: scipy>=1.7.0 in /home/dragon/.local/lib/python3.10/site-packages (from gensim>=4.2.0->flair) (1.12.0)\n",
            "Requirement already satisfied: smart-open>=1.8.1 in /home/dragon/.local/lib/python3.10/site-packages (from gensim>=4.2.0->flair) (6.4.0)\n",
            "Requirement already satisfied: fsspec>=2023.5.0 in /home/dragon/.local/lib/python3.10/site-packages (from huggingface-hub>=0.10.0->flair) (2024.2.0)\n",
            "Requirement already satisfied: pyyaml>=5.1 in /usr/lib/python3/dist-packages (from huggingface-hub>=0.10.0->flair) (5.4.1)\n",
            "Requirement already satisfied: typing-extensions>=3.7.4.3 in /home/dragon/.local/lib/python3.10/site-packages (from huggingface-hub>=0.10.0->flair) (4.10.0)\n",
            "Requirement already satisfied: packaging>=20.9 in /home/dragon/.local/lib/python3.10/site-packages (from huggingface-hub>=0.10.0->flair) (23.2)\n",
            "Requirement already satisfied: six in /usr/lib/python3/dist-packages (from langdetect>=1.0.9->flair) (1.16.0)\n",
            "Requirement already satisfied: contourpy>=1.0.1 in /home/dragon/.local/lib/python3.10/site-packages (from matplotlib>=2.2.3->flair) (1.2.0)\n",
            "Requirement already satisfied: cycler>=0.10 in /home/dragon/.local/lib/python3.10/site-packages (from matplotlib>=2.2.3->flair) (0.12.1)\n",
            "Requirement already satisfied: fonttools>=4.22.0 in /home/dragon/.local/lib/python3.10/site-packages (from matplotlib>=2.2.3->flair) (4.49.0)\n",
            "Requirement already satisfied: kiwisolver>=1.3.1 in /home/dragon/.local/lib/python3.10/site-packages (from matplotlib>=2.2.3->flair) (1.4.5)\n",
            "Requirement already satisfied: pillow>=8 in /home/dragon/.local/lib/python3.10/site-packages (from matplotlib>=2.2.3->flair) (10.2.0)\n",
            "Requirement already satisfied: pyparsing>=2.3.1 in /usr/lib/python3/dist-packages (from matplotlib>=2.2.3->flair) (2.4.7)\n",
            "Requirement already satisfied: jinja2 in /home/dragon/.local/lib/python3.10/site-packages (from mpld3>=0.3->flair) (3.1.3)\n",
            "Requirement already satisfied: joblib>=1.2.0 in /home/dragon/.local/lib/python3.10/site-packages (from scikit-learn>=1.0.2->flair) (1.3.2)\n",
            "Requirement already satisfied: threadpoolctl>=2.0.0 in /home/dragon/.local/lib/python3.10/site-packages (from scikit-learn>=1.0.2->flair) (3.3.0)\n",
            "Requirement already satisfied: sympy in /home/dragon/.local/lib/python3.10/site-packages (from torch!=1.8,>=1.5.0->flair) (1.12)\n",
            "Requirement already satisfied: networkx in /home/dragon/.local/lib/python3.10/site-packages (from torch!=1.8,>=1.5.0->flair) (3.2.1)\n",
            "Requirement already satisfied: nvidia-cuda-nvrtc-cu12==12.1.105 in /home/dragon/.local/lib/python3.10/site-packages (from torch!=1.8,>=1.5.0->flair) (12.1.105)\n",
            "Requirement already satisfied: nvidia-cuda-runtime-cu12==12.1.105 in /home/dragon/.local/lib/python3.10/site-packages (from torch!=1.8,>=1.5.0->flair) (12.1.105)\n",
            "Requirement already satisfied: nvidia-cuda-cupti-cu12==12.1.105 in /home/dragon/.local/lib/python3.10/site-packages (from torch!=1.8,>=1.5.0->flair) (12.1.105)\n",
            "Requirement already satisfied: nvidia-cudnn-cu12==8.9.2.26 in /home/dragon/.local/lib/python3.10/site-packages (from torch!=1.8,>=1.5.0->flair) (8.9.2.26)\n",
            "Requirement already satisfied: nvidia-cublas-cu12==12.1.3.1 in /home/dragon/.local/lib/python3.10/site-packages (from torch!=1.8,>=1.5.0->flair) (12.1.3.1)\n",
            "Requirement already satisfied: nvidia-cufft-cu12==11.0.2.54 in /home/dragon/.local/lib/python3.10/site-packages (from torch!=1.8,>=1.5.0->flair) (11.0.2.54)\n",
            "Requirement already satisfied: nvidia-curand-cu12==10.3.2.106 in /home/dragon/.local/lib/python3.10/site-packages (from torch!=1.8,>=1.5.0->flair) (10.3.2.106)\n",
            "Requirement already satisfied: nvidia-cusolver-cu12==11.4.5.107 in /home/dragon/.local/lib/python3.10/site-packages (from torch!=1.8,>=1.5.0->flair) (11.4.5.107)\n",
            "Requirement already satisfied: nvidia-cusparse-cu12==12.1.0.106 in /home/dragon/.local/lib/python3.10/site-packages (from torch!=1.8,>=1.5.0->flair) (12.1.0.106)\n",
            "Requirement already satisfied: nvidia-nccl-cu12==2.19.3 in /home/dragon/.local/lib/python3.10/site-packages (from torch!=1.8,>=1.5.0->flair) (2.19.3)\n",
            "Requirement already satisfied: nvidia-nvtx-cu12==12.1.105 in /home/dragon/.local/lib/python3.10/site-packages (from torch!=1.8,>=1.5.0->flair) (12.1.105)\n",
            "Requirement already satisfied: triton==2.2.0 in /home/dragon/.local/lib/python3.10/site-packages (from torch!=1.8,>=1.5.0->flair) (2.2.0)\n",
            "Requirement already satisfied: nvidia-nvjitlink-cu12 in /home/dragon/.local/lib/python3.10/site-packages (from nvidia-cusolver-cu12==11.4.5.107->torch!=1.8,>=1.5.0->flair) (12.3.101)\n",
            "Collecting sentencepiece (from bpemb>=0.3.2->flair)\n",
            "  Downloading sentencepiece-0.1.99-cp310-cp310-manylinux_2_17_x86_64.manylinux2014_x86_64.whl.metadata (7.7 kB)\n",
            "Requirement already satisfied: tokenizers<0.19,>=0.14 in /home/dragon/.local/lib/python3.10/site-packages (from transformers<5.0.0,>=4.18.0->transformers[sentencepiece]<5.0.0,>=4.18.0->flair) (0.15.2)\n",
            "Requirement already satisfied: safetensors>=0.3.1 in /home/dragon/.local/lib/python3.10/site-packages (from transformers<5.0.0,>=4.18.0->transformers[sentencepiece]<5.0.0,>=4.18.0->flair) (0.4.2)\n",
            "Requirement already satisfied: protobuf in /usr/lib/python3/dist-packages (from transformers[sentencepiece]<5.0.0,>=4.18.0->flair) (3.12.4)\n",
            "Collecting accelerate>=0.21.0 (from transformers[torch]<5.0,>=4.1->transformer-smaller-training-vocab>=0.2.3->flair)\n",
            "  Downloading accelerate-0.27.2-py3-none-any.whl.metadata (18 kB)\n",
            "Collecting soupsieve>1.2 (from beautifulsoup4->gdown>=4.4.0->flair)\n",
            "  Downloading soupsieve-2.5-py3-none-any.whl.metadata (4.7 kB)\n",
            "Requirement already satisfied: MarkupSafe>=2.0 in /home/dragon/.local/lib/python3.10/site-packages (from jinja2->mpld3>=0.3->flair) (2.1.5)\n",
            "Collecting PySocks!=1.5.7,>=1.5.6 (from requests[socks]->gdown>=4.4.0->flair)\n",
            "  Downloading PySocks-1.7.1-py3-none-any.whl.metadata (13 kB)\n",
            "Requirement already satisfied: mpmath>=0.19 in /home/dragon/.local/lib/python3.10/site-packages (from sympy->torch!=1.8,>=1.5.0->flair) (1.3.0)\n",
            "Requirement already satisfied: psutil in /home/dragon/.local/lib/python3.10/site-packages (from accelerate>=0.21.0->transformers[torch]<5.0,>=4.1->transformer-smaller-training-vocab>=0.2.3->flair) (5.9.8)\n",
            "Downloading flair-0.13.1-py3-none-any.whl (388 kB)\n",
            "\u001b[2K   \u001b[90m━━━━━━━━━━━━━━━━━━━━━━━━━━━━━━━━━━━━━━━━\u001b[0m \u001b[32m388.3/388.3 kB\u001b[0m \u001b[31m10.9 MB/s\u001b[0m eta \u001b[36m0:00:00\u001b[0m00:01\u001b[0m\n",
            "\u001b[?25hDownloading boto3-1.34.58-py3-none-any.whl (139 kB)\n",
            "\u001b[2K   \u001b[90m━━━━━━━━━━━━━━━━━━━━━━━━━━━━━━━━━━━━━━━━\u001b[0m \u001b[32m139.3/139.3 kB\u001b[0m \u001b[31m10.3 MB/s\u001b[0m eta \u001b[36m0:00:00\u001b[0m\n",
            "\u001b[?25hDownloading bpemb-0.3.4-py3-none-any.whl (19 kB)\n",
            "Downloading conllu-4.5.3-py2.py3-none-any.whl (16 kB)\n",
            "Downloading ftfy-6.1.3-py3-none-any.whl (53 kB)\n",
            "\u001b[2K   \u001b[90m━━━━━━━━━━━━━━━━━━━━━━━━━━━━━━━━━━━━━━━━\u001b[0m \u001b[32m53.4/53.4 kB\u001b[0m \u001b[31m11.6 MB/s\u001b[0m eta \u001b[36m0:00:00\u001b[0m\n",
            "\u001b[?25hDownloading gdown-5.1.0-py3-none-any.whl (17 kB)\n",
            "Downloading gensim-4.3.2-cp310-cp310-manylinux_2_17_x86_64.manylinux2014_x86_64.whl (26.5 MB)\n",
            "\u001b[2K   \u001b[90m━━━━━━━━━━━━━━━━━━━━━━━━━━━━━━━━━━━━━━━━\u001b[0m \u001b[32m26.5/26.5 MB\u001b[0m \u001b[31m9.6 MB/s\u001b[0m eta \u001b[36m0:00:00\u001b[0m:00:01\u001b[0m00:01\u001b[0m\n",
            "\u001b[?25hDownloading Janome-0.5.0-py2.py3-none-any.whl (19.7 MB)\n",
            "\u001b[2K   \u001b[90m━━━━━━━━━━━━━━━━━━━━━━━━━━━━━━━━━━━━━━━━\u001b[0m \u001b[32m19.7/19.7 MB\u001b[0m \u001b[31m10.5 MB/s\u001b[0m eta \u001b[36m0:00:00\u001b[0m00:01\u001b[0m00:01\u001b[0m\n",
            "\u001b[?25hDownloading more_itertools-10.2.0-py3-none-any.whl (57 kB)\n",
            "\u001b[2K   \u001b[90m━━━━━━━━━━━━━━━━━━━━━━━━━━━━━━━━━━━━━━━━\u001b[0m \u001b[32m57.0/57.0 kB\u001b[0m \u001b[31m7.4 MB/s\u001b[0m eta \u001b[36m0:00:00\u001b[0m\n",
            "\u001b[?25hDownloading mpld3-0.5.10-py3-none-any.whl (202 kB)\n",
            "\u001b[2K   \u001b[90m━━━━━━━━━━━━━━━━━━━━━━━━━━━━━━━━━━━━━━━━\u001b[0m \u001b[32m202.6/202.6 kB\u001b[0m \u001b[31m10.9 MB/s\u001b[0m eta \u001b[36m0:00:00\u001b[0m\n",
            "\u001b[?25hDownloading pytorch_revgrad-0.2.0-py3-none-any.whl (4.6 kB)\n",
            "Downloading segtok-1.5.11-py3-none-any.whl (24 kB)\n",
            "Downloading semver-3.0.2-py3-none-any.whl (17 kB)\n",
            "Downloading transformer_smaller_training_vocab-0.3.3-py3-none-any.whl (14 kB)\n",
            "Downloading Wikipedia_API-0.6.0-py3-none-any.whl (14 kB)\n",
            "Downloading botocore-1.34.58-py3-none-any.whl (12.0 MB)\n",
            "\u001b[2K   \u001b[90m━━━━━━━━━━━━━━━━━━━━━━━━━━━━━━━━━━━━━━━━\u001b[0m \u001b[32m12.0/12.0 MB\u001b[0m \u001b[31m10.6 MB/s\u001b[0m eta \u001b[36m0:00:00\u001b[0m00:01\u001b[0m00:01\u001b[0m\n",
            "\u001b[?25hDownloading jmespath-1.0.1-py3-none-any.whl (20 kB)\n",
            "Downloading s3transfer-0.10.0-py3-none-any.whl (82 kB)\n",
            "\u001b[2K   \u001b[90m━━━━━━━━━━━━━━━━━━━━━━━━━━━━━━━━━━━━━━━━\u001b[0m \u001b[32m82.1/82.1 kB\u001b[0m \u001b[31m9.3 MB/s\u001b[0m eta \u001b[36m0:00:00\u001b[0m\n",
            "\u001b[?25hDownloading sentencepiece-0.1.99-cp310-cp310-manylinux_2_17_x86_64.manylinux2014_x86_64.whl (1.3 MB)\n",
            "\u001b[2K   \u001b[90m━━━━━━━━━━━━━━━━━━━━━━━━━━━━━━━━━━━━━━━━\u001b[0m \u001b[32m1.3/1.3 MB\u001b[0m \u001b[31m11.3 MB/s\u001b[0m eta \u001b[36m0:00:00\u001b[0ma \u001b[36m0:00:01\u001b[0m\n",
            "\u001b[?25hDownloading beautifulsoup4-4.12.3-py3-none-any.whl (147 kB)\n",
            "\u001b[2K   \u001b[90m━━━━━━━━━━━━━━━━━━━━━━━━━━━━━━━━━━━━━━━━\u001b[0m \u001b[32m147.9/147.9 kB\u001b[0m \u001b[31m10.8 MB/s\u001b[0m eta \u001b[36m0:00:00\u001b[0m\n",
            "\u001b[?25hDownloading accelerate-0.27.2-py3-none-any.whl (279 kB)\n",
            "\u001b[2K   \u001b[90m━━━━━━━━━━━━━━━━━━━━━━━━━━━━━━━━━━━━━━━━\u001b[0m \u001b[32m280.0/280.0 kB\u001b[0m \u001b[31m11.0 MB/s\u001b[0m eta \u001b[36m0:00:00\u001b[0m\n",
            "\u001b[?25hDownloading PySocks-1.7.1-py3-none-any.whl (16 kB)\n",
            "Downloading soupsieve-2.5-py3-none-any.whl (36 kB)\n",
            "Building wheels for collected packages: langdetect, pptree, sqlitedict\n",
            "  Building wheel for langdetect (setup.py) ... \u001b[?25ldone\n",
            "\u001b[?25h  Created wheel for langdetect: filename=langdetect-1.0.9-py3-none-any.whl size=993225 sha256=9e31221122b14a162061dc5978c2a20bfc86c09e192a2491d80cfb0c88e02185\n",
            "  Stored in directory: /home/dragon/.cache/pip/wheels/95/03/7d/59ea870c70ce4e5a370638b5462a7711ab78fba2f655d05106\n",
            "  Building wheel for pptree (setup.py) ... \u001b[?25ldone\n",
            "\u001b[?25h  Created wheel for pptree: filename=pptree-3.1-py3-none-any.whl size=4609 sha256=1de670d5c81515428be1b2e35af5ee0773d7c678039bc5f338d458dc38aa6219\n",
            "  Stored in directory: /home/dragon/.cache/pip/wheels/9f/b6/0e/6f26eb9e6eb53ff2107a7888d72b5a6a597593956113037828\n",
            "  Building wheel for sqlitedict (setup.py) ... \u001b[?25ldone\n",
            "\u001b[?25h  Created wheel for sqlitedict: filename=sqlitedict-2.1.0-py3-none-any.whl size=16864 sha256=0852d8a1c00fa75cb1396f749cc04c1bada8a3f22deb98fc6736ae5e15de1e21\n",
            "  Stored in directory: /home/dragon/.cache/pip/wheels/79/d6/e7/304e0e6cb2221022c26d8161f7c23cd4f259a9e41e8bbcfabd\n",
            "Successfully built langdetect pptree sqlitedict\n",
            "Installing collected packages: sqlitedict, sentencepiece, pptree, janome, wikipedia-api, soupsieve, semver, segtok, PySocks, more-itertools, langdetect, jmespath, ftfy, conllu, gensim, botocore, beautifulsoup4, s3transfer, mpld3, gdown, bpemb, pytorch-revgrad, boto3, accelerate, transformer-smaller-training-vocab, flair\n",
            "Successfully installed PySocks-1.7.1 accelerate-0.27.2 beautifulsoup4-4.12.3 boto3-1.34.58 botocore-1.34.58 bpemb-0.3.4 conllu-4.5.3 flair-0.13.1 ftfy-6.1.3 gdown-5.1.0 gensim-4.3.2 janome-0.5.0 jmespath-1.0.1 langdetect-1.0.9 more-itertools-10.2.0 mpld3-0.5.10 pptree-3.1 pytorch-revgrad-0.2.0 s3transfer-0.10.0 segtok-1.5.11 semver-3.0.2 sentencepiece-0.1.99 soupsieve-2.5 sqlitedict-2.1.0 transformer-smaller-training-vocab-0.3.3 wikipedia-api-0.6.0\n"
          ]
        }
      ],
      "source": [
        "! pip install flair"
      ]
    },
    {
      "cell_type": "code",
      "execution_count": null,
      "metadata": {
        "id": "m-vHfCfMu_oy"
      },
      "outputs": [],
      "source": [
        "! pip install scikit-learn matplotlib seaborn"
      ]
    },
    {
      "cell_type": "code",
      "execution_count": 3,
      "metadata": {
        "id": "Twyw_asdaz4k"
      },
      "outputs": [],
      "source": [
        "from typing import List, Tuple, Dict\n",
        "\n",
        "def convert_to_flair_format(data: Dict, output_file: str):\n",
        "    for annotation in data['annotations']:\n",
        "        words = annotation[0].split()\n",
        "        tags = ['O'] * len(words)\n",
        "\n",
        "        for start, end, label in annotation[1]['entities']:\n",
        "            start_word = len(annotation[0][:start].split())\n",
        "            end_word = len(annotation[0][:end].split())\n",
        "\n",
        "            tags[start_word] = 'B-' + label\n",
        "            for i in range(start_word + 1, end_word):\n",
        "                tags[i] = 'I-' + label\n",
        "\n",
        "        for word, tag in zip(words, tags):\n",
        "            output_file.write(f'{word} {tag}\\n')\n",
        "\n",
        "        output_file.write('\\n')"
      ]
    },
    {
      "cell_type": "code",
      "execution_count": 3,
      "metadata": {},
      "outputs": [],
      "source": [
        "import flair\n",
        "from flair.data import Sentence\n",
        "from typing import List, Tuple, Dict\n",
        "\n",
        "def convert_to_flair_format(data: Dict, output_file: str):\n",
        "    for annotation in data['annotations']:\n",
        "        words = annotation[0].split()\n",
        "        tags = ['O'] * len(words)\n",
        "\n",
        "        for start, end, label in annotation[1]['entities']:\n",
        "            start_word = len(annotation[0][:start].split())\n",
        "            end_word = len(annotation[0][:end].split())\n",
        "\n",
        "            tags[start_word] = 'B-' + label\n",
        "            for i in range(start_word + 1, end_word):\n",
        "                tags[i] = 'I-' + label\n",
        "\n",
        "        count = 0\n",
        "        for word, tag in zip(words, tags):\n",
        "            output_file.write(f'{word} {tag}\\n')\n",
        "            count += 1\n",
        "            if count % 10 == 0:\n",
        "                if tag == 'O':\n",
        "                    output_file.write('\\n')\n",
        "                else:\n",
        "                    for j in range(count, len(tags)):\n",
        "                        if tags[j] == 'O':\n",
        "                            output_file.write(f'{words[j]} {tags[j]}\\n')\n",
        "                            output_file.write('\\n')\n",
        "                            count = j\n",
        "                            break\n",
        "\n",
        "        output_file.write('\\n')"
      ]
    },
    {
      "cell_type": "markdown",
      "metadata": {
        "id": "-8Wqk5hrjjs3"
      },
      "source": [
        "### Prepare Train Data"
      ]
    },
    {
      "cell_type": "code",
      "execution_count": 2,
      "metadata": {
        "id": "mjat9FhL69S1"
      },
      "outputs": [],
      "source": [
        "import os\n",
        "import json\n",
        "\n",
        "train_folder = 'data/dataset/train_annotations'\n",
        "train_file = 'data/train.txt'\n",
        "\n",
        "if not os.path.exists(os.path.dirname(train_file)):\n",
        "    os.makedirs(os.path.dirname(train_file))\n",
        "\n",
        "with open(train_file, 'w') as outfile:\n",
        "    for filename in os.listdir(train_folder):\n",
        "        if filename.endswith('.json'):\n",
        "            json_path = os.path.join(train_folder, filename)\n",
        "\n",
        "            with open(json_path, 'r') as file:\n",
        "                json_data = json.load(file)\n",
        "\n",
        "            convert_to_flair_format(json_data, outfile)\n"
      ]
    },
    {
      "cell_type": "markdown",
      "metadata": {
        "id": "ww2Xgl_VjWft"
      },
      "source": [
        "### Prepare Test Data"
      ]
    },
    {
      "cell_type": "code",
      "execution_count": 3,
      "metadata": {
        "id": "ODgoz7bDi6bf"
      },
      "outputs": [],
      "source": [
        "import os\n",
        "import json\n",
        "\n",
        "test_folder = 'data/dataset/test_annotations'\n",
        "test_file = 'data/test.txt'\n",
        "\n",
        "if not os.path.exists(os.path.dirname(test_file)):\n",
        "    os.makedirs(os.path.dirname(test_file))\n",
        "\n",
        "with open(test_file, 'w') as outfile:\n",
        "    for filename in os.listdir(test_folder):\n",
        "        if filename.endswith('.json'):\n",
        "            json_path = os.path.join(test_folder, filename)\n",
        "\n",
        "            with open(json_path, 'r') as file:\n",
        "                json_data = json.load(file)\n",
        "\n",
        "            convert_to_flair_format(json_data, outfile)\n"
      ]
    },
    {
      "cell_type": "markdown",
      "metadata": {
        "id": "1KPWo2dhkLkM"
      },
      "source": [
        "### Load Train and Test Data"
      ]
    },
    {
      "cell_type": "code",
      "execution_count": 1,
      "metadata": {
        "colab": {
          "base_uri": "https://localhost:8080/"
        },
        "id": "FvJ1fnsSfhp7",
        "outputId": "ba43b068-693a-41e0-8a37-8b309ab02379"
      },
      "outputs": [
        {
          "name": "stderr",
          "output_type": "stream",
          "text": [
            "/home/dragon/.local/lib/python3.10/site-packages/tqdm/auto.py:21: TqdmWarning: IProgress not found. Please update jupyter and ipywidgets. See https://ipywidgets.readthedocs.io/en/stable/user_install.html\n",
            "  from .autonotebook import tqdm as notebook_tqdm\n",
            "/home/dragon/.local/lib/python3.10/site-packages/transformers/utils/generic.py:441: UserWarning: torch.utils._pytree._register_pytree_node is deprecated. Please use torch.utils._pytree.register_pytree_node instead.\n",
            "  _torch_pytree._register_pytree_node(\n",
            "/home/dragon/.local/lib/python3.10/site-packages/transformers/utils/generic.py:309: UserWarning: torch.utils._pytree._register_pytree_node is deprecated. Please use torch.utils._pytree.register_pytree_node instead.\n",
            "  _torch_pytree._register_pytree_node(\n",
            "/home/dragon/.local/lib/python3.10/site-packages/transformers/utils/generic.py:309: UserWarning: torch.utils._pytree._register_pytree_node is deprecated. Please use torch.utils._pytree.register_pytree_node instead.\n",
            "  _torch_pytree._register_pytree_node(\n"
          ]
        },
        {
          "name": "stdout",
          "output_type": "stream",
          "text": [
            "2024-03-09 11:50:51,902 Reading data from data\n",
            "2024-03-09 11:50:51,902 Train: data/train.txt\n",
            "2024-03-09 11:50:51,902 Dev: None\n",
            "2024-03-09 11:50:51,903 Test: data/test.txt\n",
            "2024-03-09 11:50:52,133 No dev split found. Using 0% (i.e. 8 samples) of the train split as dev data\n"
          ]
        }
      ],
      "source": [
        "from flair.data import Corpus\n",
        "from flair.datasets import ColumnCorpus\n",
        "import flair\n",
        "from flair.data import Sentence\n",
        "\n",
        "# define columns\n",
        "columns = {0: 'text', 1: 'ner'}\n",
        "\n",
        "# this is the folder in which train, test and dev files reside\n",
        "data_folder = 'data'\n",
        "\n",
        "# init a corpus using column format, data folder and the names of the train, dev and test files\n",
        "corpus: Corpus = ColumnCorpus(data_folder, columns,\n",
        "                              train_file='train.txt',\n",
        "                              test_file='test.txt')"
      ]
    },
    {
      "cell_type": "markdown",
      "metadata": {
        "id": "w14Yw_pskUQU"
      },
      "source": [
        "### Train Flair NER Model\n"
      ]
    },
    {
      "cell_type": "code",
      "execution_count": 5,
      "metadata": {
        "colab": {
          "base_uri": "https://localhost:8080/"
        },
        "id": "WdnL7UOAmvdP",
        "outputId": "aa7f0bd9-178b-418b-c4ff-9d8ea64459d2"
      },
      "outputs": [
        {
          "name": "stdout",
          "output_type": "stream",
          "text": [
            "Span[0:3]: \"gajanana marketing agencies\" → VENDOR (1.0)\n",
            "Span[15:16]: \"29acspp1406b1zo\" → VGSTIN (1.0)\n",
            "Span[20:21]: \"r.g.mart\" → CUSTOMER (1.0)\n",
            "Span[23:24]: \"g-1868\" → INVOICENO (1.0)\n",
            "Span[25:26]: \"10/10/2023\" → INVOICEDATE (1.0)\n",
            "Span[42:45]: \"ugadi rbo tltr\" → ITEMNAME (1.0)\n",
            "Span[45:46]: \"15159040\" → HSN (1.0)\n",
            "Span[47:48]: \"80.00\" → QUANTITY (1.0)\n",
            "Span[48:49]: \"pc\" → UNIT (1.0)\n",
            "Span[49:50]: \"10400\" → PRICE (1.0)\n",
            "Span[50:51]: \"8320.00\" → AMOUNT (1.0)\n",
            "Span[52:55]: \"ugadi rboil 500m\" → ITEMNAME (1.0)\n",
            "Span[55:56]: \"15159040\" → HSN (1.0)\n",
            "Span[57:58]: \"40.00\" → QUANTITY (1.0)\n",
            "Span[58:59]: \"pc\" → UNIT (1.0)\n",
            "Span[59:60]: \"52.00\" → PRICE (1.0)\n",
            "Span[60:61]: \"2080.00\" → AMOUNT (1.0)\n",
            "Span[64:65]: \"10400.00\" → GRANDTOTAL (1.0)\n",
            "Span[76:77]: \"9904.76\" → TAXABLEAMT (1.0)\n"
          ]
        }
      ],
      "source": [
        "sentence: Sentence = corpus.train[0]\n",
        "for span in sentence.get_spans(\"ner\"):\n",
        "    print(span)"
      ]
    },
    {
      "cell_type": "code",
      "execution_count": 6,
      "metadata": {},
      "outputs": [
        {
          "name": "stdout",
          "output_type": "stream",
          "text": [
            "Sentence[98]: \"gajanana marketing agencies asm no 251-101-101-88 ward no-13block 10/6 tilak road sagar-577401 mob 9481281477 gstin 29acspp1406b1zo re tax invoice party r.g.mart invoice no g-1868 dated 10/10/2023 vehicle no gstin inv. type s.n description of goods/service hsn gst qty unit price amount 1 ugadi rbo tltr 15159040 5 80.00 pc 10400 8320.00 2. ugadi rboil 500m 15159040 5 40.00 pc 52.00 2080.00 grand total z 10400.00 hsn/sac tax rate taxable amt. cgst amt. sgst amt. 15159040 5 9904.76 247.62 247.62 rupees ten thousand four hundred only fssai license no-11221326000083 indian bank-ca a/c-7007807585 ifsc idiboo0s003 branch-sagar for gajanana marketing agencies\" → [\"gajanana marketing agencies\"/VENDOR, \"29acspp1406b1zo\"/VGSTIN, \"r.g.mart\"/CUSTOMER, \"g-1868\"/INVOICENO, \"10/10/2023\"/INVOICEDATE, \"ugadi rbo tltr\"/ITEMNAME, \"15159040\"/HSN, \"80.00\"/QUANTITY, \"pc\"/UNIT, \"10400\"/PRICE, \"8320.00\"/AMOUNT, \"ugadi rboil 500m\"/ITEMNAME, \"15159040\"/HSN, \"40.00\"/QUANTITY, \"pc\"/UNIT, \"52.00\"/PRICE, \"2080.00\"/AMOUNT, \"10400.00\"/GRANDTOTAL, \"9904.76\"/TAXABLEAMT]\n"
          ]
        }
      ],
      "source": [
        "print(corpus.train[0].to_tagged_string('ner'))"
      ]
    },
    {
      "cell_type": "code",
      "execution_count": 6,
      "metadata": {},
      "outputs": [],
      "source": [
        "import flair, torch\n",
        "flair.device = torch.device('cpu') "
      ]
    },
    {
      "cell_type": "code",
      "execution_count": 2,
      "metadata": {},
      "outputs": [],
      "source": [
        "from flair.embeddings import TransformerDocumentEmbeddings\n",
        "\n",
        "# create an instance of WordEmbeddings\n",
        "embeddings = TransformerDocumentEmbeddings(model='roberta-base',\n",
        "                                       layers=\"-1\",\n",
        "                                       subtoken_pooling=\"first\",\n",
        "                                       fine_tune=True,\n",
        "                                       use_context=True,\n",
        "                                       )"
      ]
    },
    {
      "cell_type": "code",
      "execution_count": 3,
      "metadata": {},
      "outputs": [
        {
          "name": "stdout",
          "output_type": "stream",
          "text": [
            "2024-03-09 11:52:20,908 https://flair.informatik.hu-berlin.de/resources/embeddings/flair/news-forward-0.4.1.pt not found in cache, downloading to /tmp/tmpqgsekrux\n"
          ]
        },
        {
          "name": "stderr",
          "output_type": "stream",
          "text": [
            "100%|██████████| 69.7M/69.7M [00:09<00:00, 7.55MB/s]"
          ]
        },
        {
          "name": "stdout",
          "output_type": "stream",
          "text": [
            "2024-03-09 11:52:31,274 copying /tmp/tmpqgsekrux to cache at /home/dragon/.flair/embeddings/news-forward-0.4.1.pt\n",
            "2024-03-09 11:52:31,311 removing temp file /tmp/tmpqgsekrux\n"
          ]
        },
        {
          "name": "stderr",
          "output_type": "stream",
          "text": [
            "\n"
          ]
        },
        {
          "name": "stdout",
          "output_type": "stream",
          "text": [
            "2024-03-09 11:52:32,385 https://flair.informatik.hu-berlin.de/resources/embeddings/flair/news-backward-0.4.1.pt not found in cache, downloading to /tmp/tmpebbg5jd5\n"
          ]
        },
        {
          "name": "stderr",
          "output_type": "stream",
          "text": [
            "100%|██████████| 69.7M/69.7M [00:20<00:00, 3.60MB/s]"
          ]
        },
        {
          "name": "stdout",
          "output_type": "stream",
          "text": [
            "2024-03-09 11:52:53,362 copying /tmp/tmpebbg5jd5 to cache at /home/dragon/.flair/embeddings/news-backward-0.4.1.pt\n",
            "2024-03-09 11:52:53,434 removing temp file /tmp/tmpebbg5jd5\n"
          ]
        },
        {
          "name": "stderr",
          "output_type": "stream",
          "text": [
            "\n"
          ]
        }
      ],
      "source": [
        "from flair.embeddings import WordEmbeddings, FlairEmbeddings, StackedEmbeddings\n",
        "\n",
        "embedding_types = [\n",
        "    WordEmbeddings('glove'),\n",
        "    FlairEmbeddings('news-forward'),\n",
        "    FlairEmbeddings('news-backward'),\n",
        "]\n",
        "\n",
        "embeddings = StackedEmbeddings(embeddings=embedding_types)"
      ]
    },
    {
      "cell_type": "code",
      "execution_count": 4,
      "metadata": {
        "colab": {
          "base_uri": "https://localhost:8080/"
        },
        "id": "xn-XsFGt9-c3",
        "outputId": "ac474b3c-7f35-40ca-a310-aff126a2fe63"
      },
      "outputs": [
        {
          "name": "stdout",
          "output_type": "stream",
          "text": [
            "2024-03-09 11:53:09,238 Computing label dictionary. Progress:\n"
          ]
        },
        {
          "name": "stderr",
          "output_type": "stream",
          "text": [
            "0it [00:00, ?it/s]\n",
            "74it [00:00, 9336.94it/s]"
          ]
        },
        {
          "name": "stdout",
          "output_type": "stream",
          "text": [
            "2024-03-09 11:53:09,256 Dictionary created for label 'ner' with 14 values: ITEMNAME (seen 306 times), AMOUNT (seen 270 times), PRICE (seen 267 times), HSN (seen 260 times), QUANTITY (seen 209 times), UNIT (seen 191 times), VENDOR (seen 74 times), CUSTOMER (seen 74 times), VGSTIN (seen 73 times), GRANDTOTAL (seen 73 times), TAXABLEAMT (seen 73 times), INVOICEDATE (seen 71 times), INVOICENO (seen 70 times), CGSTIN (seen 58 times)\n",
            "2024-03-09 11:53:09,257 SequenceTagger predicts: Dictionary with 57 tags: O, S-ITEMNAME, B-ITEMNAME, E-ITEMNAME, I-ITEMNAME, S-AMOUNT, B-AMOUNT, E-AMOUNT, I-AMOUNT, S-PRICE, B-PRICE, E-PRICE, I-PRICE, S-HSN, B-HSN, E-HSN, I-HSN, S-QUANTITY, B-QUANTITY, E-QUANTITY, I-QUANTITY, S-UNIT, B-UNIT, E-UNIT, I-UNIT, S-VENDOR, B-VENDOR, E-VENDOR, I-VENDOR, S-CUSTOMER, B-CUSTOMER, E-CUSTOMER, I-CUSTOMER, S-VGSTIN, B-VGSTIN, E-VGSTIN, I-VGSTIN, S-GRANDTOTAL, B-GRANDTOTAL, E-GRANDTOTAL, I-GRANDTOTAL, S-TAXABLEAMT, B-TAXABLEAMT, E-TAXABLEAMT, I-TAXABLEAMT, S-INVOICEDATE, B-INVOICEDATE, E-INVOICEDATE, I-INVOICEDATE, S-INVOICENO\n"
          ]
        },
        {
          "name": "stderr",
          "output_type": "stream",
          "text": [
            "\n"
          ]
        },
        {
          "name": "stdout",
          "output_type": "stream",
          "text": [
            "2024-03-09 11:53:09,456 ----------------------------------------------------------------------------------------------------\n",
            "2024-03-09 11:53:09,457 Model: \"SequenceTagger(\n",
            "  (embeddings): StackedEmbeddings(\n",
            "    (list_embedding_0): WordEmbeddings(\n",
            "      'glove'\n",
            "      (embedding): Embedding(400001, 100)\n",
            "    )\n",
            "    (list_embedding_1): FlairEmbeddings(\n",
            "      (lm): LanguageModel(\n",
            "        (drop): Dropout(p=0.05, inplace=False)\n",
            "        (encoder): Embedding(300, 100)\n",
            "        (rnn): LSTM(100, 2048)\n",
            "      )\n",
            "    )\n",
            "    (list_embedding_2): FlairEmbeddings(\n",
            "      (lm): LanguageModel(\n",
            "        (drop): Dropout(p=0.05, inplace=False)\n",
            "        (encoder): Embedding(300, 100)\n",
            "        (rnn): LSTM(100, 2048)\n",
            "      )\n",
            "    )\n",
            "  )\n",
            "  (word_dropout): WordDropout(p=0.05)\n",
            "  (locked_dropout): LockedDropout(p=0.5)\n",
            "  (embedding2nn): Linear(in_features=4196, out_features=4196, bias=True)\n",
            "  (rnn): LSTM(4196, 256, batch_first=True, bidirectional=True)\n",
            "  (linear): Linear(in_features=512, out_features=59, bias=True)\n",
            "  (loss_function): ViterbiLoss()\n",
            "  (crf): CRF()\n",
            ")\"\n",
            "2024-03-09 11:53:09,458 ----------------------------------------------------------------------------------------------------\n",
            "2024-03-09 11:53:09,459 Corpus: 74 train + 8 dev + 10 test sentences\n",
            "2024-03-09 11:53:09,460 ----------------------------------------------------------------------------------------------------\n",
            "2024-03-09 11:53:09,460 Train:  74 sentences\n",
            "2024-03-09 11:53:09,461         (train_with_dev=False, train_with_test=False)\n",
            "2024-03-09 11:53:09,461 ----------------------------------------------------------------------------------------------------\n",
            "2024-03-09 11:53:09,462 Training Params:\n",
            "2024-03-09 11:53:09,463  - learning_rate: \"0.1\" \n",
            "2024-03-09 11:53:09,463  - mini_batch_size: \"32\"\n",
            "2024-03-09 11:53:09,464  - max_epochs: \"150\"\n",
            "2024-03-09 11:53:09,464  - shuffle: \"True\"\n",
            "2024-03-09 11:53:09,465 ----------------------------------------------------------------------------------------------------\n",
            "2024-03-09 11:53:09,465 Plugins:\n",
            "2024-03-09 11:53:09,466  - AnnealOnPlateau | patience: '3', anneal_factor: '0.5', min_learning_rate: '0.0001'\n",
            "2024-03-09 11:53:09,466 ----------------------------------------------------------------------------------------------------\n",
            "2024-03-09 11:53:09,467 Final evaluation on model from best epoch (best-model.pt)\n",
            "2024-03-09 11:53:09,468  - metric: \"('micro avg', 'f1-score')\"\n",
            "2024-03-09 11:53:09,469 ----------------------------------------------------------------------------------------------------\n",
            "2024-03-09 11:53:09,470 Computation:\n",
            "2024-03-09 11:53:09,470  - compute on device: cuda:0\n",
            "2024-03-09 11:53:09,471  - embedding storage: cpu\n",
            "2024-03-09 11:53:09,471 ----------------------------------------------------------------------------------------------------\n",
            "2024-03-09 11:53:09,472 Model training base path: \"data/flair-ner\"\n",
            "2024-03-09 11:53:09,473 ----------------------------------------------------------------------------------------------------\n",
            "2024-03-09 11:53:09,473 ----------------------------------------------------------------------------------------------------\n",
            "2024-03-09 11:53:16,913 epoch 1 - iter 1/3 - loss 3.62125585 - time (sec): 7.44 - samples/sec: 991.20 - lr: 0.100000 - momentum: 0.000000\n",
            "2024-03-09 11:53:24,126 epoch 1 - iter 2/3 - loss 3.11213210 - time (sec): 14.65 - samples/sec: 973.91 - lr: 0.100000 - momentum: 0.000000\n",
            "2024-03-09 11:53:27,777 epoch 1 - iter 3/3 - loss 2.94057903 - time (sec): 18.30 - samples/sec: 887.29 - lr: 0.100000 - momentum: 0.000000\n",
            "2024-03-09 11:53:27,778 ----------------------------------------------------------------------------------------------------\n",
            "2024-03-09 11:53:27,779 EPOCH 1 done: loss 2.9406 - lr: 0.100000\n"
          ]
        },
        {
          "name": "stderr",
          "output_type": "stream",
          "text": [
            "100%|██████████| 1/1 [00:02<00:00,  2.87s/it]"
          ]
        },
        {
          "name": "stdout",
          "output_type": "stream",
          "text": [
            "2024-03-09 11:53:30,659 DEV : loss 1.867721438407898 - f1-score (micro avg)  0.0\n",
            "2024-03-09 11:53:30,664  - 0 epochs without improvement\n",
            "2024-03-09 11:53:30,666 ----------------------------------------------------------------------------------------------------\n"
          ]
        },
        {
          "name": "stderr",
          "output_type": "stream",
          "text": [
            "\n"
          ]
        },
        {
          "name": "stdout",
          "output_type": "stream",
          "text": [
            "2024-03-09 11:53:34,703 epoch 2 - iter 1/3 - loss 1.37853617 - time (sec): 4.04 - samples/sec: 1827.85 - lr: 0.100000 - momentum: 0.000000\n",
            "2024-03-09 11:53:38,474 epoch 2 - iter 2/3 - loss 1.44933361 - time (sec): 7.81 - samples/sec: 1785.99 - lr: 0.100000 - momentum: 0.000000\n",
            "2024-03-09 11:53:39,953 epoch 2 - iter 3/3 - loss 1.45379013 - time (sec): 9.29 - samples/sec: 1748.80 - lr: 0.100000 - momentum: 0.000000\n",
            "2024-03-09 11:53:39,955 ----------------------------------------------------------------------------------------------------\n",
            "2024-03-09 11:53:39,956 EPOCH 2 done: loss 1.4538 - lr: 0.100000\n"
          ]
        },
        {
          "name": "stderr",
          "output_type": "stream",
          "text": [
            "100%|██████████| 1/1 [00:00<00:00,  1.87it/s]"
          ]
        },
        {
          "name": "stdout",
          "output_type": "stream",
          "text": [
            "2024-03-09 11:53:40,504 DEV : loss 1.4354312419891357 - f1-score (micro avg)  0.0\n",
            "2024-03-09 11:53:40,510  - 0 epochs without improvement\n",
            "2024-03-09 11:53:40,511 ----------------------------------------------------------------------------------------------------\n"
          ]
        },
        {
          "name": "stderr",
          "output_type": "stream",
          "text": [
            "\n"
          ]
        },
        {
          "name": "stdout",
          "output_type": "stream",
          "text": [
            "2024-03-09 11:53:44,376 epoch 3 - iter 1/3 - loss 1.36847610 - time (sec): 3.86 - samples/sec: 1874.22 - lr: 0.100000 - momentum: 0.000000\n",
            "2024-03-09 11:53:48,322 epoch 3 - iter 2/3 - loss 1.45762546 - time (sec): 7.81 - samples/sec: 1801.30 - lr: 0.100000 - momentum: 0.000000\n",
            "2024-03-09 11:53:49,734 epoch 3 - iter 3/3 - loss 1.41522806 - time (sec): 9.22 - samples/sec: 1761.07 - lr: 0.100000 - momentum: 0.000000\n",
            "2024-03-09 11:53:49,735 ----------------------------------------------------------------------------------------------------\n",
            "2024-03-09 11:53:49,736 EPOCH 3 done: loss 1.4152 - lr: 0.100000\n"
          ]
        },
        {
          "name": "stderr",
          "output_type": "stream",
          "text": [
            "100%|██████████| 1/1 [00:00<00:00,  1.76it/s]"
          ]
        },
        {
          "name": "stdout",
          "output_type": "stream",
          "text": [
            "2024-03-09 11:53:50,318 DEV : loss 1.6632940769195557 - f1-score (micro avg)  0.0\n",
            "2024-03-09 11:53:50,324  - 1 epochs without improvement\n",
            "2024-03-09 11:53:50,324 ----------------------------------------------------------------------------------------------------\n"
          ]
        },
        {
          "name": "stderr",
          "output_type": "stream",
          "text": [
            "\n"
          ]
        },
        {
          "name": "stdout",
          "output_type": "stream",
          "text": [
            "2024-03-09 11:53:54,292 epoch 4 - iter 1/3 - loss 1.34030123 - time (sec): 3.97 - samples/sec: 1926.74 - lr: 0.100000 - momentum: 0.000000\n",
            "2024-03-09 11:53:58,262 epoch 4 - iter 2/3 - loss 1.30099188 - time (sec): 7.94 - samples/sec: 1816.87 - lr: 0.100000 - momentum: 0.000000\n",
            "2024-03-09 11:53:58,984 epoch 4 - iter 3/3 - loss 1.34606380 - time (sec): 8.66 - samples/sec: 1875.61 - lr: 0.100000 - momentum: 0.000000\n",
            "2024-03-09 11:53:58,986 ----------------------------------------------------------------------------------------------------\n",
            "2024-03-09 11:53:58,986 EPOCH 4 done: loss 1.3461 - lr: 0.100000\n"
          ]
        },
        {
          "name": "stderr",
          "output_type": "stream",
          "text": [
            "100%|██████████| 1/1 [00:00<00:00,  1.84it/s]"
          ]
        },
        {
          "name": "stdout",
          "output_type": "stream",
          "text": [
            "2024-03-09 11:53:59,544 DEV : loss 1.3286446332931519 - f1-score (micro avg)  0.0\n",
            "2024-03-09 11:53:59,550  - 0 epochs without improvement\n",
            "2024-03-09 11:53:59,551 ----------------------------------------------------------------------------------------------------\n"
          ]
        },
        {
          "name": "stderr",
          "output_type": "stream",
          "text": [
            "\n"
          ]
        },
        {
          "name": "stdout",
          "output_type": "stream",
          "text": [
            "2024-03-09 11:54:03,410 epoch 5 - iter 1/3 - loss 1.18458420 - time (sec): 3.86 - samples/sec: 1786.18 - lr: 0.100000 - momentum: 0.000000\n",
            "2024-03-09 11:54:07,430 epoch 5 - iter 2/3 - loss 1.25080604 - time (sec): 7.88 - samples/sec: 1774.46 - lr: 0.100000 - momentum: 0.000000\n",
            "2024-03-09 11:54:08,327 epoch 5 - iter 3/3 - loss 1.25251681 - time (sec): 8.77 - samples/sec: 1850.78 - lr: 0.100000 - momentum: 0.000000\n",
            "2024-03-09 11:54:08,328 ----------------------------------------------------------------------------------------------------\n",
            "2024-03-09 11:54:08,328 EPOCH 5 done: loss 1.2525 - lr: 0.100000\n"
          ]
        },
        {
          "name": "stderr",
          "output_type": "stream",
          "text": [
            "100%|██████████| 1/1 [00:00<00:00,  1.87it/s]"
          ]
        },
        {
          "name": "stdout",
          "output_type": "stream",
          "text": [
            "2024-03-09 11:54:08,876 DEV : loss 1.5502527952194214 - f1-score (micro avg)  0.0\n",
            "2024-03-09 11:54:08,882  - 1 epochs without improvement\n",
            "2024-03-09 11:54:08,882 ----------------------------------------------------------------------------------------------------\n"
          ]
        },
        {
          "name": "stderr",
          "output_type": "stream",
          "text": [
            "\n"
          ]
        },
        {
          "name": "stdout",
          "output_type": "stream",
          "text": [
            "2024-03-09 11:54:12,755 epoch 6 - iter 1/3 - loss 1.31676661 - time (sec): 3.87 - samples/sec: 2010.20 - lr: 0.100000 - momentum: 0.000000\n",
            "2024-03-09 11:54:16,432 epoch 6 - iter 2/3 - loss 1.27141688 - time (sec): 7.55 - samples/sec: 1901.19 - lr: 0.100000 - momentum: 0.000000\n",
            "2024-03-09 11:54:17,814 epoch 6 - iter 3/3 - loss 1.25212240 - time (sec): 8.93 - samples/sec: 1818.56 - lr: 0.100000 - momentum: 0.000000\n",
            "2024-03-09 11:54:17,815 ----------------------------------------------------------------------------------------------------\n",
            "2024-03-09 11:54:17,816 EPOCH 6 done: loss 1.2521 - lr: 0.100000\n"
          ]
        },
        {
          "name": "stderr",
          "output_type": "stream",
          "text": [
            "100%|██████████| 1/1 [00:00<00:00,  1.83it/s]"
          ]
        },
        {
          "name": "stdout",
          "output_type": "stream",
          "text": [
            "2024-03-09 11:54:18,378 DEV : loss 1.2666605710983276 - f1-score (micro avg)  0.0\n",
            "2024-03-09 11:54:18,383  - 0 epochs without improvement\n",
            "2024-03-09 11:54:18,384 ----------------------------------------------------------------------------------------------------\n"
          ]
        },
        {
          "name": "stderr",
          "output_type": "stream",
          "text": [
            "\n"
          ]
        },
        {
          "name": "stdout",
          "output_type": "stream",
          "text": [
            "2024-03-09 11:54:22,232 epoch 7 - iter 1/3 - loss 1.26730057 - time (sec): 3.85 - samples/sec: 1981.38 - lr: 0.100000 - momentum: 0.000000\n",
            "2024-03-09 11:54:26,340 epoch 7 - iter 2/3 - loss 1.24188895 - time (sec): 7.95 - samples/sec: 1802.91 - lr: 0.100000 - momentum: 0.000000\n",
            "2024-03-09 11:54:27,079 epoch 7 - iter 3/3 - loss 1.22278481 - time (sec): 8.69 - samples/sec: 1868.16 - lr: 0.100000 - momentum: 0.000000\n",
            "2024-03-09 11:54:27,080 ----------------------------------------------------------------------------------------------------\n",
            "2024-03-09 11:54:27,081 EPOCH 7 done: loss 1.2228 - lr: 0.100000\n"
          ]
        },
        {
          "name": "stderr",
          "output_type": "stream",
          "text": [
            "100%|██████████| 1/1 [00:00<00:00,  1.86it/s]"
          ]
        },
        {
          "name": "stdout",
          "output_type": "stream",
          "text": [
            "2024-03-09 11:54:27,632 DEV : loss 1.4961471557617188 - f1-score (micro avg)  0.0\n",
            "2024-03-09 11:54:27,638  - 1 epochs without improvement\n",
            "2024-03-09 11:54:27,639 ----------------------------------------------------------------------------------------------------\n"
          ]
        },
        {
          "name": "stderr",
          "output_type": "stream",
          "text": [
            "\n"
          ]
        },
        {
          "name": "stdout",
          "output_type": "stream",
          "text": [
            "2024-03-09 11:54:31,559 epoch 8 - iter 1/3 - loss 1.31515142 - time (sec): 3.92 - samples/sec: 1933.29 - lr: 0.100000 - momentum: 0.000000\n",
            "2024-03-09 11:54:35,190 epoch 8 - iter 2/3 - loss 1.20444727 - time (sec): 7.55 - samples/sec: 1832.60 - lr: 0.100000 - momentum: 0.000000\n",
            "2024-03-09 11:54:36,691 epoch 8 - iter 3/3 - loss 1.22218835 - time (sec): 9.05 - samples/sec: 1794.16 - lr: 0.100000 - momentum: 0.000000\n",
            "2024-03-09 11:54:36,693 ----------------------------------------------------------------------------------------------------\n",
            "2024-03-09 11:54:36,694 EPOCH 8 done: loss 1.2222 - lr: 0.100000\n"
          ]
        },
        {
          "name": "stderr",
          "output_type": "stream",
          "text": [
            "100%|██████████| 1/1 [00:00<00:00,  1.79it/s]"
          ]
        },
        {
          "name": "stdout",
          "output_type": "stream",
          "text": [
            "2024-03-09 11:54:37,267 DEV : loss 1.2106536626815796 - f1-score (micro avg)  0.0\n",
            "2024-03-09 11:54:37,273  - 0 epochs without improvement\n",
            "2024-03-09 11:54:37,274 ----------------------------------------------------------------------------------------------------\n"
          ]
        },
        {
          "name": "stderr",
          "output_type": "stream",
          "text": [
            "\n"
          ]
        },
        {
          "name": "stdout",
          "output_type": "stream",
          "text": [
            "2024-03-09 11:54:40,929 epoch 9 - iter 1/3 - loss 1.03428935 - time (sec): 3.65 - samples/sec: 1952.19 - lr: 0.100000 - momentum: 0.000000\n",
            "2024-03-09 11:54:44,874 epoch 9 - iter 2/3 - loss 1.16011190 - time (sec): 7.60 - samples/sec: 1889.69 - lr: 0.100000 - momentum: 0.000000\n",
            "2024-03-09 11:54:46,331 epoch 9 - iter 3/3 - loss 1.17487595 - time (sec): 9.06 - samples/sec: 1793.30 - lr: 0.100000 - momentum: 0.000000\n",
            "2024-03-09 11:54:46,333 ----------------------------------------------------------------------------------------------------\n",
            "2024-03-09 11:54:46,334 EPOCH 9 done: loss 1.1749 - lr: 0.100000\n"
          ]
        },
        {
          "name": "stderr",
          "output_type": "stream",
          "text": [
            "100%|██████████| 1/1 [00:00<00:00,  1.71it/s]"
          ]
        },
        {
          "name": "stdout",
          "output_type": "stream",
          "text": [
            "2024-03-09 11:54:46,933 DEV : loss 1.4063506126403809 - f1-score (micro avg)  0.0\n",
            "2024-03-09 11:54:46,939  - 1 epochs without improvement\n",
            "2024-03-09 11:54:46,940 ----------------------------------------------------------------------------------------------------\n"
          ]
        },
        {
          "name": "stderr",
          "output_type": "stream",
          "text": [
            "\n"
          ]
        },
        {
          "name": "stdout",
          "output_type": "stream",
          "text": [
            "2024-03-09 11:54:50,892 epoch 10 - iter 1/3 - loss 1.28753723 - time (sec): 3.95 - samples/sec: 1726.26 - lr: 0.100000 - momentum: 0.000000\n",
            "2024-03-09 11:54:54,601 epoch 10 - iter 2/3 - loss 1.22692424 - time (sec): 7.66 - samples/sec: 1746.05 - lr: 0.100000 - momentum: 0.000000\n",
            "2024-03-09 11:54:56,179 epoch 10 - iter 3/3 - loss 1.16297601 - time (sec): 9.24 - samples/sec: 1758.00 - lr: 0.100000 - momentum: 0.000000\n",
            "2024-03-09 11:54:56,181 ----------------------------------------------------------------------------------------------------\n",
            "2024-03-09 11:54:56,181 EPOCH 10 done: loss 1.1630 - lr: 0.100000\n"
          ]
        },
        {
          "name": "stderr",
          "output_type": "stream",
          "text": [
            "100%|██████████| 1/1 [00:00<00:00,  1.61it/s]"
          ]
        },
        {
          "name": "stdout",
          "output_type": "stream",
          "text": [
            "2024-03-09 11:54:56,819 DEV : loss 1.1971064805984497 - f1-score (micro avg)  0.0\n",
            "2024-03-09 11:54:56,825  - 0 epochs without improvement\n",
            "2024-03-09 11:54:56,826 ----------------------------------------------------------------------------------------------------\n"
          ]
        },
        {
          "name": "stderr",
          "output_type": "stream",
          "text": [
            "\n"
          ]
        },
        {
          "name": "stdout",
          "output_type": "stream",
          "text": [
            "2024-03-09 11:55:00,754 epoch 11 - iter 1/3 - loss 1.14953585 - time (sec): 3.93 - samples/sec: 1860.26 - lr: 0.100000 - momentum: 0.000000\n",
            "2024-03-09 11:55:04,716 epoch 11 - iter 2/3 - loss 1.14021142 - time (sec): 7.89 - samples/sec: 1775.51 - lr: 0.100000 - momentum: 0.000000\n",
            "2024-03-09 11:55:05,616 epoch 11 - iter 3/3 - loss 1.12371934 - time (sec): 8.79 - samples/sec: 1847.82 - lr: 0.100000 - momentum: 0.000000\n",
            "2024-03-09 11:55:05,617 ----------------------------------------------------------------------------------------------------\n",
            "2024-03-09 11:55:05,618 EPOCH 11 done: loss 1.1237 - lr: 0.100000\n"
          ]
        },
        {
          "name": "stderr",
          "output_type": "stream",
          "text": [
            "100%|██████████| 1/1 [00:00<00:00,  1.61it/s]"
          ]
        },
        {
          "name": "stdout",
          "output_type": "stream",
          "text": [
            "2024-03-09 11:55:06,253 DEV : loss 1.3870313167572021 - f1-score (micro avg)  0.0\n",
            "2024-03-09 11:55:06,260  - 1 epochs without improvement\n",
            "2024-03-09 11:55:06,261 ----------------------------------------------------------------------------------------------------\n"
          ]
        },
        {
          "name": "stderr",
          "output_type": "stream",
          "text": [
            "\n"
          ]
        },
        {
          "name": "stdout",
          "output_type": "stream",
          "text": [
            "2024-03-09 11:55:10,146 epoch 12 - iter 1/3 - loss 1.16140612 - time (sec): 3.88 - samples/sec: 1868.40 - lr: 0.100000 - momentum: 0.000000\n",
            "2024-03-09 11:55:14,174 epoch 12 - iter 2/3 - loss 1.11911039 - time (sec): 7.91 - samples/sec: 1812.52 - lr: 0.100000 - momentum: 0.000000\n",
            "2024-03-09 11:55:15,069 epoch 12 - iter 3/3 - loss 1.12648373 - time (sec): 8.81 - samples/sec: 1844.01 - lr: 0.100000 - momentum: 0.000000\n",
            "2024-03-09 11:55:15,071 ----------------------------------------------------------------------------------------------------\n",
            "2024-03-09 11:55:15,072 EPOCH 12 done: loss 1.1265 - lr: 0.100000\n"
          ]
        },
        {
          "name": "stderr",
          "output_type": "stream",
          "text": [
            "100%|██████████| 1/1 [00:00<00:00,  1.79it/s]"
          ]
        },
        {
          "name": "stdout",
          "output_type": "stream",
          "text": [
            "2024-03-09 11:55:15,646 DEV : loss 1.1546884775161743 - f1-score (micro avg)  0.0\n",
            "2024-03-09 11:55:15,653  - 0 epochs without improvement\n",
            "2024-03-09 11:55:15,654 ----------------------------------------------------------------------------------------------------\n"
          ]
        },
        {
          "name": "stderr",
          "output_type": "stream",
          "text": [
            "\n"
          ]
        },
        {
          "name": "stdout",
          "output_type": "stream",
          "text": [
            "2024-03-09 11:55:19,249 epoch 13 - iter 1/3 - loss 1.11875390 - time (sec): 3.59 - samples/sec: 1979.85 - lr: 0.100000 - momentum: 0.000000\n",
            "2024-03-09 11:55:23,333 epoch 13 - iter 2/3 - loss 1.13756271 - time (sec): 7.68 - samples/sec: 1840.75 - lr: 0.100000 - momentum: 0.000000\n",
            "2024-03-09 11:55:24,554 epoch 13 - iter 3/3 - loss 1.11659501 - time (sec): 8.90 - samples/sec: 1824.86 - lr: 0.100000 - momentum: 0.000000\n",
            "2024-03-09 11:55:24,556 ----------------------------------------------------------------------------------------------------\n",
            "2024-03-09 11:55:24,557 EPOCH 13 done: loss 1.1166 - lr: 0.100000\n"
          ]
        },
        {
          "name": "stderr",
          "output_type": "stream",
          "text": [
            "100%|██████████| 1/1 [00:00<00:00,  1.88it/s]"
          ]
        },
        {
          "name": "stdout",
          "output_type": "stream",
          "text": [
            "2024-03-09 11:55:25,100 DEV : loss 1.3131979703903198 - f1-score (micro avg)  0.0\n",
            "2024-03-09 11:55:25,106  - 1 epochs without improvement\n",
            "2024-03-09 11:55:25,107 ----------------------------------------------------------------------------------------------------\n"
          ]
        },
        {
          "name": "stderr",
          "output_type": "stream",
          "text": [
            "\n"
          ]
        },
        {
          "name": "stdout",
          "output_type": "stream",
          "text": [
            "2024-03-09 11:55:28,917 epoch 14 - iter 1/3 - loss 1.01539516 - time (sec): 3.81 - samples/sec: 1878.09 - lr: 0.100000 - momentum: 0.000000\n",
            "2024-03-09 11:55:33,076 epoch 14 - iter 2/3 - loss 1.12523144 - time (sec): 7.97 - samples/sec: 1758.12 - lr: 0.100000 - momentum: 0.000000\n",
            "2024-03-09 11:55:34,524 epoch 14 - iter 3/3 - loss 1.09881285 - time (sec): 9.42 - samples/sec: 1724.61 - lr: 0.100000 - momentum: 0.000000\n",
            "2024-03-09 11:55:34,525 ----------------------------------------------------------------------------------------------------\n",
            "2024-03-09 11:55:34,526 EPOCH 14 done: loss 1.0988 - lr: 0.100000\n"
          ]
        },
        {
          "name": "stderr",
          "output_type": "stream",
          "text": [
            "100%|██████████| 1/1 [00:00<00:00,  1.76it/s]"
          ]
        },
        {
          "name": "stdout",
          "output_type": "stream",
          "text": [
            "2024-03-09 11:55:35,109 DEV : loss 1.1353955268859863 - f1-score (micro avg)  0.0\n",
            "2024-03-09 11:55:35,116  - 0 epochs without improvement\n",
            "2024-03-09 11:55:35,117 ----------------------------------------------------------------------------------------------------\n"
          ]
        },
        {
          "name": "stderr",
          "output_type": "stream",
          "text": [
            "\n"
          ]
        },
        {
          "name": "stdout",
          "output_type": "stream",
          "text": [
            "2024-03-09 11:55:39,107 epoch 15 - iter 1/3 - loss 1.03698947 - time (sec): 3.99 - samples/sec: 1792.52 - lr: 0.100000 - momentum: 0.000000\n",
            "2024-03-09 11:55:42,862 epoch 15 - iter 2/3 - loss 1.06939534 - time (sec): 7.74 - samples/sec: 1757.78 - lr: 0.100000 - momentum: 0.000000\n",
            "2024-03-09 11:55:44,383 epoch 15 - iter 3/3 - loss 1.07736263 - time (sec): 9.26 - samples/sec: 1752.86 - lr: 0.100000 - momentum: 0.000000\n",
            "2024-03-09 11:55:44,384 ----------------------------------------------------------------------------------------------------\n",
            "2024-03-09 11:55:44,385 EPOCH 15 done: loss 1.0774 - lr: 0.100000\n"
          ]
        },
        {
          "name": "stderr",
          "output_type": "stream",
          "text": [
            "100%|██████████| 1/1 [00:00<00:00,  1.68it/s]"
          ]
        },
        {
          "name": "stdout",
          "output_type": "stream",
          "text": [
            "2024-03-09 11:55:44,995 DEV : loss 1.24836266040802 - f1-score (micro avg)  0.0\n",
            "2024-03-09 11:55:45,001  - 1 epochs without improvement\n",
            "2024-03-09 11:55:45,002 ----------------------------------------------------------------------------------------------------\n"
          ]
        },
        {
          "name": "stderr",
          "output_type": "stream",
          "text": [
            "\n"
          ]
        },
        {
          "name": "stdout",
          "output_type": "stream",
          "text": [
            "2024-03-09 11:55:48,782 epoch 16 - iter 1/3 - loss 1.10045333 - time (sec): 3.78 - samples/sec: 1754.21 - lr: 0.100000 - momentum: 0.000000\n",
            "2024-03-09 11:55:52,054 epoch 16 - iter 2/3 - loss 1.06111135 - time (sec): 7.05 - samples/sec: 1930.69 - lr: 0.100000 - momentum: 0.000000\n",
            "2024-03-09 11:55:53,537 epoch 16 - iter 3/3 - loss 1.07459939 - time (sec): 8.53 - samples/sec: 1903.17 - lr: 0.100000 - momentum: 0.000000\n",
            "2024-03-09 11:55:53,539 ----------------------------------------------------------------------------------------------------\n",
            "2024-03-09 11:55:53,540 EPOCH 16 done: loss 1.0746 - lr: 0.100000\n"
          ]
        },
        {
          "name": "stderr",
          "output_type": "stream",
          "text": [
            "100%|██████████| 1/1 [00:00<00:00,  1.49it/s]"
          ]
        },
        {
          "name": "stdout",
          "output_type": "stream",
          "text": [
            "2024-03-09 11:55:54,226 DEV : loss 1.1106853485107422 - f1-score (micro avg)  0.0\n",
            "2024-03-09 11:55:54,233  - 0 epochs without improvement\n",
            "2024-03-09 11:55:54,234 ----------------------------------------------------------------------------------------------------\n"
          ]
        },
        {
          "name": "stderr",
          "output_type": "stream",
          "text": [
            "\n"
          ]
        },
        {
          "name": "stdout",
          "output_type": "stream",
          "text": [
            "2024-03-09 11:55:58,004 epoch 17 - iter 1/3 - loss 1.07950815 - time (sec): 3.77 - samples/sec: 1879.43 - lr: 0.100000 - momentum: 0.000000\n",
            "2024-03-09 11:56:02,355 epoch 17 - iter 2/3 - loss 1.03570261 - time (sec): 8.12 - samples/sec: 1836.01 - lr: 0.100000 - momentum: 0.000000\n",
            "2024-03-09 11:56:02,865 epoch 17 - iter 3/3 - loss 1.03210275 - time (sec): 8.63 - samples/sec: 1881.86 - lr: 0.100000 - momentum: 0.000000\n",
            "2024-03-09 11:56:02,866 ----------------------------------------------------------------------------------------------------\n",
            "2024-03-09 11:56:02,867 EPOCH 17 done: loss 1.0321 - lr: 0.100000\n"
          ]
        },
        {
          "name": "stderr",
          "output_type": "stream",
          "text": [
            "100%|██████████| 1/1 [00:00<00:00,  1.67it/s]"
          ]
        },
        {
          "name": "stdout",
          "output_type": "stream",
          "text": [
            "2024-03-09 11:56:03,480 DEV : loss 1.1910674571990967 - f1-score (micro avg)  0.0\n",
            "2024-03-09 11:56:03,486  - 1 epochs without improvement\n",
            "2024-03-09 11:56:03,488 ----------------------------------------------------------------------------------------------------\n"
          ]
        },
        {
          "name": "stderr",
          "output_type": "stream",
          "text": [
            "\n"
          ]
        },
        {
          "name": "stdout",
          "output_type": "stream",
          "text": [
            "2024-03-09 11:56:07,445 epoch 18 - iter 1/3 - loss 1.02983579 - time (sec): 3.96 - samples/sec: 1925.44 - lr: 0.100000 - momentum: 0.000000\n",
            "2024-03-09 11:56:11,326 epoch 18 - iter 2/3 - loss 1.03653545 - time (sec): 7.84 - samples/sec: 1865.78 - lr: 0.100000 - momentum: 0.000000\n",
            "2024-03-09 11:56:12,118 epoch 18 - iter 3/3 - loss 1.03666289 - time (sec): 8.63 - samples/sec: 1882.06 - lr: 0.100000 - momentum: 0.000000\n",
            "2024-03-09 11:56:12,119 ----------------------------------------------------------------------------------------------------\n",
            "2024-03-09 11:56:12,120 EPOCH 18 done: loss 1.0367 - lr: 0.100000\n"
          ]
        },
        {
          "name": "stderr",
          "output_type": "stream",
          "text": [
            "100%|██████████| 1/1 [00:00<00:00,  1.63it/s]"
          ]
        },
        {
          "name": "stdout",
          "output_type": "stream",
          "text": [
            "2024-03-09 11:56:12,748 DEV : loss 1.0809029340744019 - f1-score (micro avg)  0.0\n",
            "2024-03-09 11:56:12,755  - 0 epochs without improvement\n",
            "2024-03-09 11:56:12,756 ----------------------------------------------------------------------------------------------------\n"
          ]
        },
        {
          "name": "stderr",
          "output_type": "stream",
          "text": [
            "\n"
          ]
        },
        {
          "name": "stdout",
          "output_type": "stream",
          "text": [
            "2024-03-09 11:56:16,695 epoch 19 - iter 1/3 - loss 0.96768038 - time (sec): 3.94 - samples/sec: 1915.76 - lr: 0.100000 - momentum: 0.000000\n",
            "2024-03-09 11:56:20,724 epoch 19 - iter 2/3 - loss 1.00551474 - time (sec): 7.97 - samples/sec: 1825.12 - lr: 0.100000 - momentum: 0.000000\n",
            "2024-03-09 11:56:21,805 epoch 19 - iter 3/3 - loss 0.99454815 - time (sec): 9.05 - samples/sec: 1794.90 - lr: 0.100000 - momentum: 0.000000\n",
            "2024-03-09 11:56:21,806 ----------------------------------------------------------------------------------------------------\n",
            "2024-03-09 11:56:21,807 EPOCH 19 done: loss 0.9945 - lr: 0.100000\n"
          ]
        },
        {
          "name": "stderr",
          "output_type": "stream",
          "text": [
            "100%|██████████| 1/1 [00:00<00:00,  1.62it/s]"
          ]
        },
        {
          "name": "stdout",
          "output_type": "stream",
          "text": [
            "2024-03-09 11:56:22,440 DEV : loss 1.1299238204956055 - f1-score (micro avg)  0.0\n",
            "2024-03-09 11:56:22,446  - 1 epochs without improvement\n",
            "2024-03-09 11:56:22,448 ----------------------------------------------------------------------------------------------------\n"
          ]
        },
        {
          "name": "stderr",
          "output_type": "stream",
          "text": [
            "\n"
          ]
        },
        {
          "name": "stdout",
          "output_type": "stream",
          "text": [
            "2024-03-09 11:56:26,371 epoch 20 - iter 1/3 - loss 0.91114338 - time (sec): 3.92 - samples/sec: 1625.00 - lr: 0.100000 - momentum: 0.000000\n",
            "2024-03-09 11:56:30,465 epoch 20 - iter 2/3 - loss 0.97903513 - time (sec): 8.02 - samples/sec: 1712.60 - lr: 0.100000 - momentum: 0.000000\n",
            "2024-03-09 11:56:31,658 epoch 20 - iter 3/3 - loss 0.99613422 - time (sec): 9.21 - samples/sec: 1763.36 - lr: 0.100000 - momentum: 0.000000\n",
            "2024-03-09 11:56:31,660 ----------------------------------------------------------------------------------------------------\n",
            "2024-03-09 11:56:31,660 EPOCH 20 done: loss 0.9961 - lr: 0.100000\n"
          ]
        },
        {
          "name": "stderr",
          "output_type": "stream",
          "text": [
            "100%|██████████| 1/1 [00:00<00:00,  1.59it/s]"
          ]
        },
        {
          "name": "stdout",
          "output_type": "stream",
          "text": [
            "2024-03-09 11:56:32,308 DEV : loss 1.0278198719024658 - f1-score (micro avg)  0.0\n",
            "2024-03-09 11:56:32,315  - 0 epochs without improvement\n",
            "2024-03-09 11:56:32,316 ----------------------------------------------------------------------------------------------------\n"
          ]
        },
        {
          "name": "stderr",
          "output_type": "stream",
          "text": [
            "\n"
          ]
        },
        {
          "name": "stdout",
          "output_type": "stream",
          "text": [
            "2024-03-09 11:56:36,064 epoch 21 - iter 1/3 - loss 0.92127729 - time (sec): 3.75 - samples/sec: 1850.70 - lr: 0.100000 - momentum: 0.000000\n",
            "2024-03-09 11:56:40,267 epoch 21 - iter 2/3 - loss 0.98919210 - time (sec): 7.95 - samples/sec: 1783.38 - lr: 0.100000 - momentum: 0.000000\n",
            "2024-03-09 11:56:41,218 epoch 21 - iter 3/3 - loss 0.95348381 - time (sec): 8.90 - samples/sec: 1824.64 - lr: 0.100000 - momentum: 0.000000\n",
            "2024-03-09 11:56:41,219 ----------------------------------------------------------------------------------------------------\n",
            "2024-03-09 11:56:41,220 EPOCH 21 done: loss 0.9535 - lr: 0.100000\n"
          ]
        },
        {
          "name": "stderr",
          "output_type": "stream",
          "text": [
            "100%|██████████| 1/1 [00:00<00:00,  1.85it/s]"
          ]
        },
        {
          "name": "stdout",
          "output_type": "stream",
          "text": [
            "2024-03-09 11:56:41,774 DEV : loss 1.039863109588623 - f1-score (micro avg)  0.0\n",
            "2024-03-09 11:56:41,780  - 1 epochs without improvement\n",
            "2024-03-09 11:56:41,781 ----------------------------------------------------------------------------------------------------\n"
          ]
        },
        {
          "name": "stderr",
          "output_type": "stream",
          "text": [
            "\n"
          ]
        },
        {
          "name": "stdout",
          "output_type": "stream",
          "text": [
            "2024-03-09 11:56:45,583 epoch 22 - iter 1/3 - loss 0.98925327 - time (sec): 3.80 - samples/sec: 1978.11 - lr: 0.100000 - momentum: 0.000000\n",
            "2024-03-09 11:56:49,601 epoch 22 - iter 2/3 - loss 0.98031883 - time (sec): 7.82 - samples/sec: 1789.52 - lr: 0.100000 - momentum: 0.000000\n",
            "2024-03-09 11:56:51,052 epoch 22 - iter 3/3 - loss 0.95705518 - time (sec): 9.27 - samples/sec: 1751.95 - lr: 0.100000 - momentum: 0.000000\n",
            "2024-03-09 11:56:51,054 ----------------------------------------------------------------------------------------------------\n",
            "2024-03-09 11:56:51,055 EPOCH 22 done: loss 0.9571 - lr: 0.100000\n"
          ]
        },
        {
          "name": "stderr",
          "output_type": "stream",
          "text": [
            "100%|██████████| 1/1 [00:00<00:00,  1.76it/s]"
          ]
        },
        {
          "name": "stdout",
          "output_type": "stream",
          "text": [
            "2024-03-09 11:56:51,636 DEV : loss 0.9693038463592529 - f1-score (micro avg)  0.0259\n",
            "2024-03-09 11:56:51,642  - 0 epochs without improvement\n",
            "2024-03-09 11:56:51,643 saving best model\n"
          ]
        },
        {
          "name": "stderr",
          "output_type": "stream",
          "text": [
            "\n"
          ]
        },
        {
          "name": "stdout",
          "output_type": "stream",
          "text": [
            "2024-03-09 11:56:52,356 ----------------------------------------------------------------------------------------------------\n",
            "2024-03-09 11:56:56,187 epoch 23 - iter 1/3 - loss 1.00130052 - time (sec): 3.83 - samples/sec: 1736.99 - lr: 0.100000 - momentum: 0.000000\n",
            "2024-03-09 11:57:00,172 epoch 23 - iter 2/3 - loss 0.91669413 - time (sec): 7.82 - samples/sec: 1795.99 - lr: 0.100000 - momentum: 0.000000\n",
            "2024-03-09 11:57:01,762 epoch 23 - iter 3/3 - loss 0.91880857 - time (sec): 9.41 - samples/sec: 1726.72 - lr: 0.100000 - momentum: 0.000000\n",
            "2024-03-09 11:57:01,764 ----------------------------------------------------------------------------------------------------\n",
            "2024-03-09 11:57:01,765 EPOCH 23 done: loss 0.9188 - lr: 0.100000\n"
          ]
        },
        {
          "name": "stderr",
          "output_type": "stream",
          "text": [
            "100%|██████████| 1/1 [00:00<00:00,  1.69it/s]"
          ]
        },
        {
          "name": "stdout",
          "output_type": "stream",
          "text": [
            "2024-03-09 11:57:02,370 DEV : loss 1.019602656364441 - f1-score (micro avg)  0.0\n",
            "2024-03-09 11:57:02,376  - 1 epochs without improvement\n",
            "2024-03-09 11:57:02,377 ----------------------------------------------------------------------------------------------------\n"
          ]
        },
        {
          "name": "stderr",
          "output_type": "stream",
          "text": [
            "\n"
          ]
        },
        {
          "name": "stdout",
          "output_type": "stream",
          "text": [
            "2024-03-09 11:57:06,254 epoch 24 - iter 1/3 - loss 0.90763456 - time (sec): 3.88 - samples/sec: 1845.55 - lr: 0.100000 - momentum: 0.000000\n",
            "2024-03-09 11:57:10,104 epoch 24 - iter 2/3 - loss 0.95316563 - time (sec): 7.73 - samples/sec: 1779.70 - lr: 0.100000 - momentum: 0.000000\n",
            "2024-03-09 11:57:11,710 epoch 24 - iter 3/3 - loss 0.92663021 - time (sec): 9.33 - samples/sec: 1740.28 - lr: 0.100000 - momentum: 0.000000\n",
            "2024-03-09 11:57:11,712 ----------------------------------------------------------------------------------------------------\n",
            "2024-03-09 11:57:11,714 EPOCH 24 done: loss 0.9266 - lr: 0.100000\n"
          ]
        },
        {
          "name": "stderr",
          "output_type": "stream",
          "text": [
            "100%|██████████| 1/1 [00:00<00:00,  1.47it/s]"
          ]
        },
        {
          "name": "stdout",
          "output_type": "stream",
          "text": [
            "2024-03-09 11:57:12,414 DEV : loss 0.9582781791687012 - f1-score (micro avg)  0.0798\n",
            "2024-03-09 11:57:12,421  - 0 epochs without improvement\n",
            "2024-03-09 11:57:12,423 saving best model\n"
          ]
        },
        {
          "name": "stderr",
          "output_type": "stream",
          "text": [
            "\n"
          ]
        },
        {
          "name": "stdout",
          "output_type": "stream",
          "text": [
            "2024-03-09 11:57:13,528 ----------------------------------------------------------------------------------------------------\n",
            "2024-03-09 11:57:17,236 epoch 25 - iter 1/3 - loss 0.86518097 - time (sec): 3.71 - samples/sec: 1756.34 - lr: 0.100000 - momentum: 0.000000\n",
            "2024-03-09 11:57:21,417 epoch 25 - iter 2/3 - loss 0.88567126 - time (sec): 7.89 - samples/sec: 1735.19 - lr: 0.100000 - momentum: 0.000000\n",
            "2024-03-09 11:57:23,150 epoch 25 - iter 3/3 - loss 0.90323390 - time (sec): 9.62 - samples/sec: 1688.12 - lr: 0.100000 - momentum: 0.000000\n",
            "2024-03-09 11:57:23,151 ----------------------------------------------------------------------------------------------------\n",
            "2024-03-09 11:57:23,153 EPOCH 25 done: loss 0.9032 - lr: 0.100000\n"
          ]
        },
        {
          "name": "stderr",
          "output_type": "stream",
          "text": [
            "100%|██████████| 1/1 [00:00<00:00,  1.50it/s]"
          ]
        },
        {
          "name": "stdout",
          "output_type": "stream",
          "text": [
            "2024-03-09 11:57:23,839 DEV : loss 0.9564319849014282 - f1-score (micro avg)  0.0\n",
            "2024-03-09 11:57:23,846  - 1 epochs without improvement\n",
            "2024-03-09 11:57:23,848 ----------------------------------------------------------------------------------------------------\n"
          ]
        },
        {
          "name": "stderr",
          "output_type": "stream",
          "text": [
            "\n"
          ]
        },
        {
          "name": "stdout",
          "output_type": "stream",
          "text": [
            "2024-03-09 11:57:27,831 epoch 26 - iter 1/3 - loss 0.89127755 - time (sec): 3.98 - samples/sec: 1847.65 - lr: 0.100000 - momentum: 0.000000\n",
            "2024-03-09 11:57:31,940 epoch 26 - iter 2/3 - loss 0.92511185 - time (sec): 8.09 - samples/sec: 1739.61 - lr: 0.100000 - momentum: 0.000000\n",
            "2024-03-09 11:57:33,088 epoch 26 - iter 3/3 - loss 0.88278676 - time (sec): 9.24 - samples/sec: 1757.72 - lr: 0.100000 - momentum: 0.000000\n",
            "2024-03-09 11:57:33,090 ----------------------------------------------------------------------------------------------------\n",
            "2024-03-09 11:57:33,091 EPOCH 26 done: loss 0.8828 - lr: 0.100000\n"
          ]
        },
        {
          "name": "stderr",
          "output_type": "stream",
          "text": [
            "100%|██████████| 1/1 [00:00<00:00,  1.59it/s]"
          ]
        },
        {
          "name": "stdout",
          "output_type": "stream",
          "text": [
            "2024-03-09 11:57:33,737 DEV : loss 0.8990068435668945 - f1-score (micro avg)  0.0086\n",
            "2024-03-09 11:57:33,744  - 2 epochs without improvement\n",
            "2024-03-09 11:57:33,745 ----------------------------------------------------------------------------------------------------\n"
          ]
        },
        {
          "name": "stderr",
          "output_type": "stream",
          "text": [
            "\n"
          ]
        },
        {
          "name": "stdout",
          "output_type": "stream",
          "text": [
            "2024-03-09 11:57:37,480 epoch 27 - iter 1/3 - loss 0.85277790 - time (sec): 3.73 - samples/sec: 1774.10 - lr: 0.100000 - momentum: 0.000000\n",
            "2024-03-09 11:57:41,716 epoch 27 - iter 2/3 - loss 0.82811399 - time (sec): 7.97 - samples/sec: 1780.83 - lr: 0.100000 - momentum: 0.000000\n",
            "2024-03-09 11:57:42,703 epoch 27 - iter 3/3 - loss 0.81700289 - time (sec): 8.96 - samples/sec: 1813.07 - lr: 0.100000 - momentum: 0.000000\n",
            "2024-03-09 11:57:42,705 ----------------------------------------------------------------------------------------------------\n",
            "2024-03-09 11:57:42,706 EPOCH 27 done: loss 0.8170 - lr: 0.100000\n"
          ]
        },
        {
          "name": "stderr",
          "output_type": "stream",
          "text": [
            "100%|██████████| 1/1 [00:00<00:00,  1.51it/s]"
          ]
        },
        {
          "name": "stdout",
          "output_type": "stream",
          "text": [
            "2024-03-09 11:57:43,384 DEV : loss 0.9138573408126831 - f1-score (micro avg)  0.0\n",
            "2024-03-09 11:57:43,390  - 3 epochs without improvement\n",
            "2024-03-09 11:57:43,392 ----------------------------------------------------------------------------------------------------\n"
          ]
        },
        {
          "name": "stderr",
          "output_type": "stream",
          "text": [
            "\n"
          ]
        },
        {
          "name": "stdout",
          "output_type": "stream",
          "text": [
            "2024-03-09 11:57:47,442 epoch 28 - iter 1/3 - loss 0.83720348 - time (sec): 4.05 - samples/sec: 1736.47 - lr: 0.100000 - momentum: 0.000000\n",
            "2024-03-09 11:57:51,664 epoch 28 - iter 2/3 - loss 0.87417302 - time (sec): 8.27 - samples/sec: 1697.72 - lr: 0.100000 - momentum: 0.000000\n",
            "2024-03-09 11:57:52,854 epoch 28 - iter 3/3 - loss 0.84992826 - time (sec): 9.46 - samples/sec: 1716.49 - lr: 0.100000 - momentum: 0.000000\n",
            "2024-03-09 11:57:52,856 ----------------------------------------------------------------------------------------------------\n",
            "2024-03-09 11:57:52,856 EPOCH 28 done: loss 0.8499 - lr: 0.100000\n"
          ]
        },
        {
          "name": "stderr",
          "output_type": "stream",
          "text": [
            "100%|██████████| 1/1 [00:00<00:00,  1.30it/s]"
          ]
        },
        {
          "name": "stdout",
          "output_type": "stream",
          "text": [
            "2024-03-09 11:57:53,648 DEV : loss 0.8874621391296387 - f1-score (micro avg)  0.2009\n",
            "2024-03-09 11:57:53,654  - 0 epochs without improvement\n",
            "2024-03-09 11:57:53,656 saving best model\n"
          ]
        },
        {
          "name": "stderr",
          "output_type": "stream",
          "text": [
            "\n"
          ]
        },
        {
          "name": "stdout",
          "output_type": "stream",
          "text": [
            "2024-03-09 11:57:54,691 ----------------------------------------------------------------------------------------------------\n",
            "2024-03-09 11:57:58,727 epoch 29 - iter 1/3 - loss 0.79262725 - time (sec): 4.03 - samples/sec: 1848.58 - lr: 0.100000 - momentum: 0.000000\n",
            "2024-03-09 11:58:02,650 epoch 29 - iter 2/3 - loss 0.81494144 - time (sec): 7.96 - samples/sec: 1734.54 - lr: 0.100000 - momentum: 0.000000\n",
            "2024-03-09 11:58:04,256 epoch 29 - iter 3/3 - loss 0.85735970 - time (sec): 9.56 - samples/sec: 1698.13 - lr: 0.100000 - momentum: 0.000000\n",
            "2024-03-09 11:58:04,257 ----------------------------------------------------------------------------------------------------\n",
            "2024-03-09 11:58:04,259 EPOCH 29 done: loss 0.8574 - lr: 0.100000\n"
          ]
        },
        {
          "name": "stderr",
          "output_type": "stream",
          "text": [
            "100%|██████████| 1/1 [00:00<00:00,  1.54it/s]"
          ]
        },
        {
          "name": "stdout",
          "output_type": "stream",
          "text": [
            "2024-03-09 11:58:04,924 DEV : loss 0.8592394590377808 - f1-score (micro avg)  0.0\n",
            "2024-03-09 11:58:04,930  - 1 epochs without improvement\n",
            "2024-03-09 11:58:04,931 ----------------------------------------------------------------------------------------------------\n"
          ]
        },
        {
          "name": "stderr",
          "output_type": "stream",
          "text": [
            "\n"
          ]
        },
        {
          "name": "stdout",
          "output_type": "stream",
          "text": [
            "2024-03-09 11:58:08,049 epoch 30 - iter 1/3 - loss 0.85546485 - time (sec): 3.12 - samples/sec: 1928.63 - lr: 0.100000 - momentum: 0.000000\n",
            "2024-03-09 11:58:12,440 epoch 30 - iter 2/3 - loss 0.81302398 - time (sec): 7.51 - samples/sec: 1816.04 - lr: 0.100000 - momentum: 0.000000\n",
            "2024-03-09 11:58:14,740 epoch 30 - iter 3/3 - loss 0.78933659 - time (sec): 9.81 - samples/sec: 1655.79 - lr: 0.100000 - momentum: 0.000000\n",
            "2024-03-09 11:58:14,744 ----------------------------------------------------------------------------------------------------\n",
            "2024-03-09 11:58:14,747 EPOCH 30 done: loss 0.7893 - lr: 0.100000\n"
          ]
        },
        {
          "name": "stderr",
          "output_type": "stream",
          "text": [
            "100%|██████████| 1/1 [00:02<00:00,  2.03s/it]"
          ]
        },
        {
          "name": "stdout",
          "output_type": "stream",
          "text": [
            "2024-03-09 11:58:16,836 DEV : loss 0.7994857430458069 - f1-score (micro avg)  0.0\n",
            "2024-03-09 11:58:16,855  - 2 epochs without improvement\n",
            "2024-03-09 11:58:16,858 ----------------------------------------------------------------------------------------------------\n"
          ]
        },
        {
          "name": "stderr",
          "output_type": "stream",
          "text": [
            "\n"
          ]
        },
        {
          "name": "stdout",
          "output_type": "stream",
          "text": [
            "2024-03-09 11:58:22,320 epoch 31 - iter 1/3 - loss 0.71478326 - time (sec): 5.46 - samples/sec: 1289.47 - lr: 0.100000 - momentum: 0.000000\n",
            "2024-03-09 11:58:27,398 epoch 31 - iter 2/3 - loss 0.78831552 - time (sec): 10.54 - samples/sec: 1365.29 - lr: 0.100000 - momentum: 0.000000\n",
            "2024-03-09 11:58:29,627 epoch 31 - iter 3/3 - loss 0.78888228 - time (sec): 12.77 - samples/sec: 1272.17 - lr: 0.100000 - momentum: 0.000000\n",
            "2024-03-09 11:58:29,639 ----------------------------------------------------------------------------------------------------\n",
            "2024-03-09 11:58:29,643 EPOCH 31 done: loss 0.7889 - lr: 0.100000\n"
          ]
        },
        {
          "name": "stderr",
          "output_type": "stream",
          "text": [
            "100%|██████████| 1/1 [00:01<00:00,  1.90s/it]"
          ]
        },
        {
          "name": "stdout",
          "output_type": "stream",
          "text": [
            "2024-03-09 11:58:31,609 DEV : loss 0.8010609149932861 - f1-score (micro avg)  0.2035\n",
            "2024-03-09 11:58:31,628  - 0 epochs without improvement\n",
            "2024-03-09 11:58:31,635 saving best model\n"
          ]
        },
        {
          "name": "stderr",
          "output_type": "stream",
          "text": [
            "\n"
          ]
        },
        {
          "name": "stdout",
          "output_type": "stream",
          "text": [
            "2024-03-09 11:58:34,187 ----------------------------------------------------------------------------------------------------\n",
            "2024-03-09 11:58:39,845 epoch 32 - iter 1/3 - loss 0.76324983 - time (sec): 5.65 - samples/sec: 1271.02 - lr: 0.100000 - momentum: 0.000000\n",
            "2024-03-09 11:58:45,770 epoch 32 - iter 2/3 - loss 0.77424335 - time (sec): 11.58 - samples/sec: 1198.60 - lr: 0.100000 - momentum: 0.000000\n",
            "2024-03-09 11:58:48,402 epoch 32 - iter 3/3 - loss 0.78584111 - time (sec): 14.21 - samples/sec: 1142.86 - lr: 0.100000 - momentum: 0.000000\n",
            "2024-03-09 11:58:48,407 ----------------------------------------------------------------------------------------------------\n",
            "2024-03-09 11:58:48,409 EPOCH 32 done: loss 0.7858 - lr: 0.100000\n"
          ]
        },
        {
          "name": "stderr",
          "output_type": "stream",
          "text": [
            "100%|██████████| 1/1 [00:02<00:00,  2.03s/it]"
          ]
        },
        {
          "name": "stdout",
          "output_type": "stream",
          "text": [
            "2024-03-09 11:58:50,494 DEV : loss 0.8158933520317078 - f1-score (micro avg)  0.0\n",
            "2024-03-09 11:58:50,521  - 1 epochs without improvement\n",
            "2024-03-09 11:58:50,531 ----------------------------------------------------------------------------------------------------\n"
          ]
        },
        {
          "name": "stderr",
          "output_type": "stream",
          "text": [
            "\n"
          ]
        },
        {
          "name": "stdout",
          "output_type": "stream",
          "text": [
            "2024-03-09 11:58:55,840 epoch 33 - iter 1/3 - loss 0.72059300 - time (sec): 5.30 - samples/sec: 1317.88 - lr: 0.100000 - momentum: 0.000000\n",
            "2024-03-09 11:59:01,508 epoch 33 - iter 2/3 - loss 0.79639853 - time (sec): 10.97 - samples/sec: 1285.40 - lr: 0.100000 - momentum: 0.000000\n",
            "2024-03-09 11:59:03,222 epoch 33 - iter 3/3 - loss 0.76706320 - time (sec): 12.68 - samples/sec: 1280.31 - lr: 0.100000 - momentum: 0.000000\n",
            "2024-03-09 11:59:03,224 ----------------------------------------------------------------------------------------------------\n",
            "2024-03-09 11:59:03,225 EPOCH 33 done: loss 0.7671 - lr: 0.100000\n"
          ]
        },
        {
          "name": "stderr",
          "output_type": "stream",
          "text": [
            "100%|██████████| 1/1 [00:00<00:00,  1.10it/s]"
          ]
        },
        {
          "name": "stdout",
          "output_type": "stream",
          "text": [
            "2024-03-09 11:59:04,157 DEV : loss 0.8147240877151489 - f1-score (micro avg)  0.2284\n",
            "2024-03-09 11:59:04,165  - 0 epochs without improvement\n",
            "2024-03-09 11:59:04,167 saving best model\n"
          ]
        },
        {
          "name": "stderr",
          "output_type": "stream",
          "text": [
            "\n"
          ]
        },
        {
          "name": "stdout",
          "output_type": "stream",
          "text": [
            "2024-03-09 11:59:05,340 ----------------------------------------------------------------------------------------------------\n",
            "2024-03-09 11:59:08,418 epoch 34 - iter 1/3 - loss 0.72181564 - time (sec): 3.08 - samples/sec: 2040.72 - lr: 0.100000 - momentum: 0.000000\n",
            "2024-03-09 11:59:12,681 epoch 34 - iter 2/3 - loss 0.74846203 - time (sec): 7.34 - samples/sec: 1944.13 - lr: 0.100000 - momentum: 0.000000\n",
            "2024-03-09 11:59:14,178 epoch 34 - iter 3/3 - loss 0.73785984 - time (sec): 8.84 - samples/sec: 1837.84 - lr: 0.100000 - momentum: 0.000000\n",
            "2024-03-09 11:59:14,180 ----------------------------------------------------------------------------------------------------\n",
            "2024-03-09 11:59:14,180 EPOCH 34 done: loss 0.7379 - lr: 0.100000\n"
          ]
        },
        {
          "name": "stderr",
          "output_type": "stream",
          "text": [
            "100%|██████████| 1/1 [00:00<00:00,  1.36it/s]"
          ]
        },
        {
          "name": "stdout",
          "output_type": "stream",
          "text": [
            "2024-03-09 11:59:14,934 DEV : loss 0.8181523680686951 - f1-score (micro avg)  0.0\n",
            "2024-03-09 11:59:14,941  - 1 epochs without improvement\n",
            "2024-03-09 11:59:14,942 ----------------------------------------------------------------------------------------------------\n"
          ]
        },
        {
          "name": "stderr",
          "output_type": "stream",
          "text": [
            "\n"
          ]
        },
        {
          "name": "stdout",
          "output_type": "stream",
          "text": [
            "2024-03-09 11:59:18,721 epoch 35 - iter 1/3 - loss 0.74989491 - time (sec): 3.78 - samples/sec: 1830.44 - lr: 0.100000 - momentum: 0.000000\n",
            "2024-03-09 11:59:23,009 epoch 35 - iter 2/3 - loss 0.75841103 - time (sec): 8.07 - samples/sec: 1623.29 - lr: 0.100000 - momentum: 0.000000\n",
            "2024-03-09 11:59:24,756 epoch 35 - iter 3/3 - loss 0.71323110 - time (sec): 9.81 - samples/sec: 1655.00 - lr: 0.100000 - momentum: 0.000000\n",
            "2024-03-09 11:59:24,758 ----------------------------------------------------------------------------------------------------\n",
            "2024-03-09 11:59:24,758 EPOCH 35 done: loss 0.7132 - lr: 0.100000\n"
          ]
        },
        {
          "name": "stderr",
          "output_type": "stream",
          "text": [
            "100%|██████████| 1/1 [00:00<00:00,  1.35it/s]"
          ]
        },
        {
          "name": "stdout",
          "output_type": "stream",
          "text": [
            "2024-03-09 11:59:25,515 DEV : loss 0.7337260246276855 - f1-score (micro avg)  0.1353\n",
            "2024-03-09 11:59:25,522  - 2 epochs without improvement\n",
            "2024-03-09 11:59:25,523 ----------------------------------------------------------------------------------------------------\n"
          ]
        },
        {
          "name": "stderr",
          "output_type": "stream",
          "text": [
            "\n"
          ]
        },
        {
          "name": "stdout",
          "output_type": "stream",
          "text": [
            "2024-03-09 11:59:29,610 epoch 36 - iter 1/3 - loss 0.60817083 - time (sec): 4.09 - samples/sec: 1604.55 - lr: 0.100000 - momentum: 0.000000\n",
            "2024-03-09 11:59:33,401 epoch 36 - iter 2/3 - loss 0.68968932 - time (sec): 7.88 - samples/sec: 1728.98 - lr: 0.100000 - momentum: 0.000000\n",
            "2024-03-09 11:59:34,918 epoch 36 - iter 3/3 - loss 0.69226291 - time (sec): 9.39 - samples/sec: 1728.83 - lr: 0.100000 - momentum: 0.000000\n",
            "2024-03-09 11:59:34,920 ----------------------------------------------------------------------------------------------------\n",
            "2024-03-09 11:59:34,921 EPOCH 36 done: loss 0.6923 - lr: 0.100000\n"
          ]
        },
        {
          "name": "stderr",
          "output_type": "stream",
          "text": [
            "100%|██████████| 1/1 [00:00<00:00,  1.28it/s]"
          ]
        },
        {
          "name": "stdout",
          "output_type": "stream",
          "text": [
            "2024-03-09 11:59:35,724 DEV : loss 0.7981933951377869 - f1-score (micro avg)  0.2681\n",
            "2024-03-09 11:59:35,732  - 0 epochs without improvement\n",
            "2024-03-09 11:59:35,733 saving best model\n"
          ]
        },
        {
          "name": "stderr",
          "output_type": "stream",
          "text": [
            "\n"
          ]
        },
        {
          "name": "stdout",
          "output_type": "stream",
          "text": [
            "2024-03-09 11:59:37,791 ----------------------------------------------------------------------------------------------------\n",
            "2024-03-09 11:59:41,958 epoch 37 - iter 1/3 - loss 0.73864726 - time (sec): 4.16 - samples/sec: 1642.62 - lr: 0.100000 - momentum: 0.000000\n",
            "2024-03-09 11:59:47,469 epoch 37 - iter 2/3 - loss 0.73651110 - time (sec): 9.68 - samples/sec: 1402.13 - lr: 0.100000 - momentum: 0.000000\n",
            "2024-03-09 11:59:50,134 epoch 37 - iter 3/3 - loss 0.72568756 - time (sec): 12.34 - samples/sec: 1315.94 - lr: 0.100000 - momentum: 0.000000\n",
            "2024-03-09 11:59:50,144 ----------------------------------------------------------------------------------------------------\n",
            "2024-03-09 11:59:50,146 EPOCH 37 done: loss 0.7257 - lr: 0.100000\n"
          ]
        },
        {
          "name": "stderr",
          "output_type": "stream",
          "text": [
            "100%|██████████| 1/1 [00:01<00:00,  1.68s/it]"
          ]
        },
        {
          "name": "stdout",
          "output_type": "stream",
          "text": [
            "2024-03-09 11:59:51,889 DEV : loss 0.7432448267936707 - f1-score (micro avg)  0.0656\n",
            "2024-03-09 11:59:51,910  - 1 epochs without improvement\n",
            "2024-03-09 11:59:51,913 ----------------------------------------------------------------------------------------------------\n"
          ]
        },
        {
          "name": "stderr",
          "output_type": "stream",
          "text": [
            "\n"
          ]
        },
        {
          "name": "stdout",
          "output_type": "stream",
          "text": [
            "2024-03-09 11:59:58,050 epoch 38 - iter 1/3 - loss 0.65735651 - time (sec): 6.13 - samples/sec: 1104.04 - lr: 0.100000 - momentum: 0.000000\n",
            "2024-03-09 12:00:04,238 epoch 38 - iter 2/3 - loss 0.72892201 - time (sec): 12.32 - samples/sec: 1110.13 - lr: 0.100000 - momentum: 0.000000\n",
            "2024-03-09 12:00:06,757 epoch 38 - iter 3/3 - loss 0.70242385 - time (sec): 14.84 - samples/sec: 1094.32 - lr: 0.100000 - momentum: 0.000000\n",
            "2024-03-09 12:00:06,763 ----------------------------------------------------------------------------------------------------\n",
            "2024-03-09 12:00:06,766 EPOCH 38 done: loss 0.7024 - lr: 0.100000\n"
          ]
        },
        {
          "name": "stderr",
          "output_type": "stream",
          "text": [
            "100%|██████████| 1/1 [00:02<00:00,  2.89s/it]"
          ]
        },
        {
          "name": "stdout",
          "output_type": "stream",
          "text": [
            "2024-03-09 12:00:09,775 DEV : loss 0.7412276864051819 - f1-score (micro avg)  0.3032\n",
            "2024-03-09 12:00:09,801  - 0 epochs without improvement\n",
            "2024-03-09 12:00:09,804 saving best model\n"
          ]
        },
        {
          "name": "stderr",
          "output_type": "stream",
          "text": [
            "\n"
          ]
        },
        {
          "name": "stdout",
          "output_type": "stream",
          "text": [
            "2024-03-09 12:00:13,181 ----------------------------------------------------------------------------------------------------\n",
            "2024-03-09 12:00:19,408 epoch 39 - iter 1/3 - loss 0.69788802 - time (sec): 6.22 - samples/sec: 1081.12 - lr: 0.100000 - momentum: 0.000000\n",
            "2024-03-09 12:00:25,530 epoch 39 - iter 2/3 - loss 0.66573205 - time (sec): 12.35 - samples/sec: 1110.18 - lr: 0.100000 - momentum: 0.000000\n",
            "2024-03-09 12:00:27,905 epoch 39 - iter 3/3 - loss 0.68363620 - time (sec): 14.72 - samples/sec: 1103.17 - lr: 0.100000 - momentum: 0.000000\n",
            "2024-03-09 12:00:27,908 ----------------------------------------------------------------------------------------------------\n",
            "2024-03-09 12:00:27,909 EPOCH 39 done: loss 0.6836 - lr: 0.100000\n"
          ]
        },
        {
          "name": "stderr",
          "output_type": "stream",
          "text": [
            "100%|██████████| 1/1 [00:00<00:00,  1.36it/s]"
          ]
        },
        {
          "name": "stdout",
          "output_type": "stream",
          "text": [
            "2024-03-09 12:00:28,661 DEV : loss 0.7367526292800903 - f1-score (micro avg)  0.1102\n",
            "2024-03-09 12:00:28,670  - 1 epochs without improvement\n",
            "2024-03-09 12:00:28,672 ----------------------------------------------------------------------------------------------------\n"
          ]
        },
        {
          "name": "stderr",
          "output_type": "stream",
          "text": [
            "\n"
          ]
        },
        {
          "name": "stdout",
          "output_type": "stream",
          "text": [
            "2024-03-09 12:00:32,728 epoch 40 - iter 1/3 - loss 0.76043550 - time (sec): 4.06 - samples/sec: 1756.54 - lr: 0.100000 - momentum: 0.000000\n",
            "2024-03-09 12:00:36,913 epoch 40 - iter 2/3 - loss 0.69878262 - time (sec): 8.24 - samples/sec: 1681.54 - lr: 0.100000 - momentum: 0.000000\n",
            "2024-03-09 12:00:38,640 epoch 40 - iter 3/3 - loss 0.66143829 - time (sec): 9.97 - samples/sec: 1629.40 - lr: 0.100000 - momentum: 0.000000\n",
            "2024-03-09 12:00:38,641 ----------------------------------------------------------------------------------------------------\n",
            "2024-03-09 12:00:38,642 EPOCH 40 done: loss 0.6614 - lr: 0.100000\n"
          ]
        },
        {
          "name": "stderr",
          "output_type": "stream",
          "text": [
            "100%|██████████| 1/1 [00:00<00:00,  1.12it/s]"
          ]
        },
        {
          "name": "stdout",
          "output_type": "stream",
          "text": [
            "2024-03-09 12:00:39,557 DEV : loss 0.6863126754760742 - f1-score (micro avg)  0.2827\n",
            "2024-03-09 12:00:39,565  - 2 epochs without improvement\n",
            "2024-03-09 12:00:39,566 ----------------------------------------------------------------------------------------------------\n"
          ]
        },
        {
          "name": "stderr",
          "output_type": "stream",
          "text": [
            "\n"
          ]
        },
        {
          "name": "stdout",
          "output_type": "stream",
          "text": [
            "2024-03-09 12:00:43,658 epoch 41 - iter 1/3 - loss 0.70694532 - time (sec): 4.09 - samples/sec: 1767.21 - lr: 0.100000 - momentum: 0.000000\n",
            "2024-03-09 12:00:48,305 epoch 41 - iter 2/3 - loss 0.63646690 - time (sec): 8.74 - samples/sec: 1656.30 - lr: 0.100000 - momentum: 0.000000\n",
            "2024-03-09 12:00:49,558 epoch 41 - iter 3/3 - loss 0.65132870 - time (sec): 9.99 - samples/sec: 1625.66 - lr: 0.100000 - momentum: 0.000000\n",
            "2024-03-09 12:00:49,560 ----------------------------------------------------------------------------------------------------\n",
            "2024-03-09 12:00:49,561 EPOCH 41 done: loss 0.6513 - lr: 0.100000\n"
          ]
        },
        {
          "name": "stderr",
          "output_type": "stream",
          "text": [
            "100%|██████████| 1/1 [00:00<00:00,  1.25it/s]"
          ]
        },
        {
          "name": "stdout",
          "output_type": "stream",
          "text": [
            "2024-03-09 12:00:50,385 DEV : loss 0.6943514347076416 - f1-score (micro avg)  0.2321\n",
            "2024-03-09 12:00:50,393  - 3 epochs without improvement\n",
            "2024-03-09 12:00:50,394 ----------------------------------------------------------------------------------------------------\n"
          ]
        },
        {
          "name": "stderr",
          "output_type": "stream",
          "text": [
            "\n"
          ]
        },
        {
          "name": "stdout",
          "output_type": "stream",
          "text": [
            "2024-03-09 12:00:54,847 epoch 42 - iter 1/3 - loss 0.63386132 - time (sec): 4.45 - samples/sec: 1709.18 - lr: 0.100000 - momentum: 0.000000\n",
            "2024-03-09 12:00:59,089 epoch 42 - iter 2/3 - loss 0.63408143 - time (sec): 8.69 - samples/sec: 1635.24 - lr: 0.100000 - momentum: 0.000000\n",
            "2024-03-09 12:01:00,321 epoch 42 - iter 3/3 - loss 0.64134179 - time (sec): 9.93 - samples/sec: 1636.04 - lr: 0.100000 - momentum: 0.000000\n",
            "2024-03-09 12:01:00,324 ----------------------------------------------------------------------------------------------------\n",
            "2024-03-09 12:01:00,325 EPOCH 42 done: loss 0.6413 - lr: 0.100000\n"
          ]
        },
        {
          "name": "stderr",
          "output_type": "stream",
          "text": [
            "100%|██████████| 1/1 [00:00<00:00,  1.15it/s]"
          ]
        },
        {
          "name": "stdout",
          "output_type": "stream",
          "text": [
            "2024-03-09 12:01:01,232 DEV : loss 0.6660454273223877 - f1-score (micro avg)  0.3474\n",
            "2024-03-09 12:01:01,241  - 0 epochs without improvement\n",
            "2024-03-09 12:01:01,242 saving best model\n"
          ]
        },
        {
          "name": "stderr",
          "output_type": "stream",
          "text": [
            "\n"
          ]
        },
        {
          "name": "stdout",
          "output_type": "stream",
          "text": [
            "2024-03-09 12:01:02,670 ----------------------------------------------------------------------------------------------------\n",
            "2024-03-09 12:01:06,681 epoch 43 - iter 1/3 - loss 0.52685930 - time (sec): 4.01 - samples/sec: 1556.92 - lr: 0.100000 - momentum: 0.000000\n",
            "2024-03-09 12:01:11,060 epoch 43 - iter 2/3 - loss 0.60132571 - time (sec): 8.39 - samples/sec: 1622.72 - lr: 0.100000 - momentum: 0.000000\n",
            "2024-03-09 12:01:12,855 epoch 43 - iter 3/3 - loss 0.63282393 - time (sec): 10.18 - samples/sec: 1594.86 - lr: 0.100000 - momentum: 0.000000\n",
            "2024-03-09 12:01:12,858 ----------------------------------------------------------------------------------------------------\n",
            "2024-03-09 12:01:12,858 EPOCH 43 done: loss 0.6328 - lr: 0.100000\n"
          ]
        },
        {
          "name": "stderr",
          "output_type": "stream",
          "text": [
            "100%|██████████| 1/1 [00:01<00:00,  1.10s/it]"
          ]
        },
        {
          "name": "stdout",
          "output_type": "stream",
          "text": [
            "2024-03-09 12:01:13,991 DEV : loss 0.6534445881843567 - f1-score (micro avg)  0.1612\n",
            "2024-03-09 12:01:14,003  - 1 epochs without improvement\n",
            "2024-03-09 12:01:14,005 ----------------------------------------------------------------------------------------------------\n"
          ]
        },
        {
          "name": "stderr",
          "output_type": "stream",
          "text": [
            "\n"
          ]
        },
        {
          "name": "stdout",
          "output_type": "stream",
          "text": [
            "2024-03-09 12:01:16,827 epoch 44 - iter 1/3 - loss 0.64852074 - time (sec): 2.82 - samples/sec: 2279.45 - lr: 0.100000 - momentum: 0.000000\n",
            "2024-03-09 12:01:21,450 epoch 44 - iter 2/3 - loss 0.67057255 - time (sec): 7.44 - samples/sec: 1888.85 - lr: 0.100000 - momentum: 0.000000\n",
            "2024-03-09 12:01:22,960 epoch 44 - iter 3/3 - loss 0.64121190 - time (sec): 8.95 - samples/sec: 1813.88 - lr: 0.100000 - momentum: 0.000000\n",
            "2024-03-09 12:01:22,963 ----------------------------------------------------------------------------------------------------\n",
            "2024-03-09 12:01:22,965 EPOCH 44 done: loss 0.6412 - lr: 0.100000\n"
          ]
        },
        {
          "name": "stderr",
          "output_type": "stream",
          "text": [
            "100%|██████████| 1/1 [00:00<00:00,  1.16it/s]"
          ]
        },
        {
          "name": "stdout",
          "output_type": "stream",
          "text": [
            "2024-03-09 12:01:23,853 DEV : loss 0.6972059011459351 - f1-score (micro avg)  0.2899\n",
            "2024-03-09 12:01:23,861  - 2 epochs without improvement\n",
            "2024-03-09 12:01:23,862 ----------------------------------------------------------------------------------------------------\n"
          ]
        },
        {
          "name": "stderr",
          "output_type": "stream",
          "text": [
            "\n"
          ]
        },
        {
          "name": "stdout",
          "output_type": "stream",
          "text": [
            "2024-03-09 12:01:28,348 epoch 45 - iter 1/3 - loss 0.59135633 - time (sec): 4.48 - samples/sec: 1790.28 - lr: 0.100000 - momentum: 0.000000\n",
            "2024-03-09 12:01:32,166 epoch 45 - iter 2/3 - loss 0.63863346 - time (sec): 8.30 - samples/sec: 1702.33 - lr: 0.100000 - momentum: 0.000000\n",
            "2024-03-09 12:01:33,374 epoch 45 - iter 3/3 - loss 0.62779138 - time (sec): 9.51 - samples/sec: 1707.51 - lr: 0.100000 - momentum: 0.000000\n",
            "2024-03-09 12:01:33,377 ----------------------------------------------------------------------------------------------------\n",
            "2024-03-09 12:01:33,377 EPOCH 45 done: loss 0.6278 - lr: 0.100000\n"
          ]
        },
        {
          "name": "stderr",
          "output_type": "stream",
          "text": [
            "100%|██████████| 1/1 [00:00<00:00,  1.04it/s]"
          ]
        },
        {
          "name": "stdout",
          "output_type": "stream",
          "text": [
            "2024-03-09 12:01:34,371 DEV : loss 0.6266658902168274 - f1-score (micro avg)  0.1971\n",
            "2024-03-09 12:01:34,380  - 3 epochs without improvement\n",
            "2024-03-09 12:01:34,382 ----------------------------------------------------------------------------------------------------\n"
          ]
        },
        {
          "name": "stderr",
          "output_type": "stream",
          "text": [
            "\n"
          ]
        },
        {
          "name": "stdout",
          "output_type": "stream",
          "text": [
            "2024-03-09 12:01:38,844 epoch 46 - iter 1/3 - loss 0.59504948 - time (sec): 4.46 - samples/sec: 1571.44 - lr: 0.100000 - momentum: 0.000000\n",
            "2024-03-09 12:01:43,130 epoch 46 - iter 2/3 - loss 0.59103374 - time (sec): 8.74 - samples/sec: 1624.70 - lr: 0.100000 - momentum: 0.000000\n",
            "2024-03-09 12:01:44,476 epoch 46 - iter 3/3 - loss 0.58965830 - time (sec): 10.09 - samples/sec: 1609.45 - lr: 0.100000 - momentum: 0.000000\n",
            "2024-03-09 12:01:44,478 ----------------------------------------------------------------------------------------------------\n",
            "2024-03-09 12:01:44,479 EPOCH 46 done: loss 0.5897 - lr: 0.100000\n"
          ]
        },
        {
          "name": "stderr",
          "output_type": "stream",
          "text": [
            "100%|██████████| 1/1 [00:00<00:00,  1.20it/s]"
          ]
        },
        {
          "name": "stdout",
          "output_type": "stream",
          "text": [
            "2024-03-09 12:01:45,329 DEV : loss 0.6444224119186401 - f1-score (micro avg)  0.3333\n",
            "2024-03-09 12:01:45,337  - 4 epochs without improvement (above 'patience')-> annealing learning_rate to [0.05]\n",
            "2024-03-09 12:01:45,338 ----------------------------------------------------------------------------------------------------\n"
          ]
        },
        {
          "name": "stderr",
          "output_type": "stream",
          "text": [
            "\n"
          ]
        },
        {
          "name": "stdout",
          "output_type": "stream",
          "text": [
            "2024-03-09 12:01:49,732 epoch 47 - iter 1/3 - loss 0.63923085 - time (sec): 4.39 - samples/sec: 1764.72 - lr: 0.050000 - momentum: 0.000000\n",
            "2024-03-09 12:01:53,958 epoch 47 - iter 2/3 - loss 0.57285765 - time (sec): 8.62 - samples/sec: 1666.82 - lr: 0.050000 - momentum: 0.000000\n",
            "2024-03-09 12:01:55,014 epoch 47 - iter 3/3 - loss 0.58826363 - time (sec): 9.67 - samples/sec: 1678.72 - lr: 0.050000 - momentum: 0.000000\n",
            "2024-03-09 12:01:55,016 ----------------------------------------------------------------------------------------------------\n",
            "2024-03-09 12:01:55,017 EPOCH 47 done: loss 0.5883 - lr: 0.050000\n"
          ]
        },
        {
          "name": "stderr",
          "output_type": "stream",
          "text": [
            "100%|██████████| 1/1 [00:00<00:00,  1.05it/s]"
          ]
        },
        {
          "name": "stdout",
          "output_type": "stream",
          "text": [
            "2024-03-09 12:01:55,995 DEV : loss 0.5934634208679199 - f1-score (micro avg)  0.3016\n",
            "2024-03-09 12:01:56,006  - 1 epochs without improvement\n",
            "2024-03-09 12:01:56,007 ----------------------------------------------------------------------------------------------------\n"
          ]
        },
        {
          "name": "stderr",
          "output_type": "stream",
          "text": [
            "\n"
          ]
        },
        {
          "name": "stdout",
          "output_type": "stream",
          "text": [
            "2024-03-09 12:02:00,103 epoch 48 - iter 1/3 - loss 0.55562894 - time (sec): 4.09 - samples/sec: 1677.44 - lr: 0.050000 - momentum: 0.000000\n",
            "2024-03-09 12:02:04,478 epoch 48 - iter 2/3 - loss 0.53182114 - time (sec): 8.47 - samples/sec: 1744.43 - lr: 0.050000 - momentum: 0.000000\n",
            "2024-03-09 12:02:05,068 epoch 48 - iter 3/3 - loss 0.54262527 - time (sec): 9.06 - samples/sec: 1792.67 - lr: 0.050000 - momentum: 0.000000\n",
            "2024-03-09 12:02:05,070 ----------------------------------------------------------------------------------------------------\n",
            "2024-03-09 12:02:05,070 EPOCH 48 done: loss 0.5426 - lr: 0.050000\n"
          ]
        },
        {
          "name": "stderr",
          "output_type": "stream",
          "text": [
            "100%|██████████| 1/1 [00:00<00:00,  1.41it/s]"
          ]
        },
        {
          "name": "stdout",
          "output_type": "stream",
          "text": [
            "2024-03-09 12:02:05,797 DEV : loss 0.5677818655967712 - f1-score (micro avg)  0.3296\n",
            "2024-03-09 12:02:05,804  - 2 epochs without improvement\n",
            "2024-03-09 12:02:05,805 ----------------------------------------------------------------------------------------------------\n"
          ]
        },
        {
          "name": "stderr",
          "output_type": "stream",
          "text": [
            "\n"
          ]
        },
        {
          "name": "stdout",
          "output_type": "stream",
          "text": [
            "2024-03-09 12:02:09,644 epoch 49 - iter 1/3 - loss 0.49628168 - time (sec): 3.84 - samples/sec: 1819.81 - lr: 0.050000 - momentum: 0.000000\n",
            "2024-03-09 12:02:13,956 epoch 49 - iter 2/3 - loss 0.54241071 - time (sec): 8.15 - samples/sec: 1754.10 - lr: 0.050000 - momentum: 0.000000\n",
            "2024-03-09 12:02:14,885 epoch 49 - iter 3/3 - loss 0.53348304 - time (sec): 9.08 - samples/sec: 1788.89 - lr: 0.050000 - momentum: 0.000000\n",
            "2024-03-09 12:02:14,886 ----------------------------------------------------------------------------------------------------\n",
            "2024-03-09 12:02:14,887 EPOCH 49 done: loss 0.5335 - lr: 0.050000\n"
          ]
        },
        {
          "name": "stderr",
          "output_type": "stream",
          "text": [
            "100%|██████████| 1/1 [00:00<00:00,  1.59it/s]"
          ]
        },
        {
          "name": "stdout",
          "output_type": "stream",
          "text": [
            "2024-03-09 12:02:15,531 DEV : loss 0.5730326771736145 - f1-score (micro avg)  0.3168\n",
            "2024-03-09 12:02:15,537  - 3 epochs without improvement\n",
            "2024-03-09 12:02:15,538 ----------------------------------------------------------------------------------------------------\n"
          ]
        },
        {
          "name": "stderr",
          "output_type": "stream",
          "text": [
            "\n"
          ]
        },
        {
          "name": "stdout",
          "output_type": "stream",
          "text": [
            "2024-03-09 12:02:19,393 epoch 50 - iter 1/3 - loss 0.51888736 - time (sec): 3.85 - samples/sec: 2008.61 - lr: 0.050000 - momentum: 0.000000\n",
            "2024-03-09 12:02:23,387 epoch 50 - iter 2/3 - loss 0.51223244 - time (sec): 7.85 - samples/sec: 1797.28 - lr: 0.050000 - momentum: 0.000000\n",
            "2024-03-09 12:02:24,380 epoch 50 - iter 3/3 - loss 0.52009235 - time (sec): 8.84 - samples/sec: 1836.82 - lr: 0.050000 - momentum: 0.000000\n",
            "2024-03-09 12:02:24,382 ----------------------------------------------------------------------------------------------------\n",
            "2024-03-09 12:02:24,383 EPOCH 50 done: loss 0.5201 - lr: 0.050000\n"
          ]
        },
        {
          "name": "stderr",
          "output_type": "stream",
          "text": [
            "100%|██████████| 1/1 [00:00<00:00,  1.62it/s]"
          ]
        },
        {
          "name": "stdout",
          "output_type": "stream",
          "text": [
            "2024-03-09 12:02:25,015 DEV : loss 0.5576725006103516 - f1-score (micro avg)  0.3087\n",
            "2024-03-09 12:02:25,021  - 4 epochs without improvement (above 'patience')-> annealing learning_rate to [0.025]\n",
            "2024-03-09 12:02:25,022 ----------------------------------------------------------------------------------------------------\n"
          ]
        },
        {
          "name": "stderr",
          "output_type": "stream",
          "text": [
            "\n"
          ]
        },
        {
          "name": "stdout",
          "output_type": "stream",
          "text": [
            "2024-03-09 12:02:28,186 epoch 51 - iter 1/3 - loss 0.53370416 - time (sec): 3.16 - samples/sec: 1864.06 - lr: 0.025000 - momentum: 0.000000\n",
            "2024-03-09 12:02:32,359 epoch 51 - iter 2/3 - loss 0.52028955 - time (sec): 7.33 - samples/sec: 1852.05 - lr: 0.025000 - momentum: 0.000000\n",
            "2024-03-09 12:02:33,904 epoch 51 - iter 3/3 - loss 0.51225778 - time (sec): 8.88 - samples/sec: 1828.92 - lr: 0.025000 - momentum: 0.000000\n",
            "2024-03-09 12:02:33,906 ----------------------------------------------------------------------------------------------------\n",
            "2024-03-09 12:02:33,906 EPOCH 51 done: loss 0.5123 - lr: 0.025000\n"
          ]
        },
        {
          "name": "stderr",
          "output_type": "stream",
          "text": [
            "100%|██████████| 1/1 [00:00<00:00,  1.64it/s]"
          ]
        },
        {
          "name": "stdout",
          "output_type": "stream",
          "text": [
            "2024-03-09 12:02:34,529 DEV : loss 0.5395485758781433 - f1-score (micro avg)  0.3127\n",
            "2024-03-09 12:02:34,535  - 1 epochs without improvement\n",
            "2024-03-09 12:02:34,537 ----------------------------------------------------------------------------------------------------\n"
          ]
        },
        {
          "name": "stderr",
          "output_type": "stream",
          "text": [
            "\n"
          ]
        },
        {
          "name": "stdout",
          "output_type": "stream",
          "text": [
            "2024-03-09 12:02:38,199 epoch 52 - iter 1/3 - loss 0.52228598 - time (sec): 3.66 - samples/sec: 1651.34 - lr: 0.025000 - momentum: 0.000000\n",
            "2024-03-09 12:02:42,426 epoch 52 - iter 2/3 - loss 0.49336747 - time (sec): 7.89 - samples/sec: 1780.29 - lr: 0.025000 - momentum: 0.000000\n",
            "2024-03-09 12:02:43,941 epoch 52 - iter 3/3 - loss 0.49707993 - time (sec): 9.40 - samples/sec: 1727.14 - lr: 0.025000 - momentum: 0.000000\n",
            "2024-03-09 12:02:43,943 ----------------------------------------------------------------------------------------------------\n",
            "2024-03-09 12:02:43,944 EPOCH 52 done: loss 0.4971 - lr: 0.025000\n"
          ]
        },
        {
          "name": "stderr",
          "output_type": "stream",
          "text": [
            "100%|██████████| 1/1 [00:00<00:00,  1.64it/s]"
          ]
        },
        {
          "name": "stdout",
          "output_type": "stream",
          "text": [
            "2024-03-09 12:02:44,565 DEV : loss 0.5434598326683044 - f1-score (micro avg)  0.3016\n",
            "2024-03-09 12:02:44,571  - 2 epochs without improvement\n",
            "2024-03-09 12:02:44,572 ----------------------------------------------------------------------------------------------------\n"
          ]
        },
        {
          "name": "stderr",
          "output_type": "stream",
          "text": [
            "\n"
          ]
        },
        {
          "name": "stdout",
          "output_type": "stream",
          "text": [
            "2024-03-09 12:02:48,198 epoch 53 - iter 1/3 - loss 0.47826821 - time (sec): 3.62 - samples/sec: 2036.47 - lr: 0.025000 - momentum: 0.000000\n",
            "2024-03-09 12:02:52,177 epoch 53 - iter 2/3 - loss 0.48169426 - time (sec): 7.60 - samples/sec: 1798.01 - lr: 0.025000 - momentum: 0.000000\n",
            "2024-03-09 12:02:53,759 epoch 53 - iter 3/3 - loss 0.49902031 - time (sec): 9.19 - samples/sec: 1767.95 - lr: 0.025000 - momentum: 0.000000\n",
            "2024-03-09 12:02:53,761 ----------------------------------------------------------------------------------------------------\n",
            "2024-03-09 12:02:53,762 EPOCH 53 done: loss 0.4990 - lr: 0.025000\n"
          ]
        },
        {
          "name": "stderr",
          "output_type": "stream",
          "text": [
            "100%|██████████| 1/1 [00:00<00:00,  1.60it/s]"
          ]
        },
        {
          "name": "stdout",
          "output_type": "stream",
          "text": [
            "2024-03-09 12:02:54,403 DEV : loss 0.5342797636985779 - f1-score (micro avg)  0.3228\n",
            "2024-03-09 12:02:54,409  - 3 epochs without improvement\n",
            "2024-03-09 12:02:54,410 ----------------------------------------------------------------------------------------------------\n"
          ]
        },
        {
          "name": "stderr",
          "output_type": "stream",
          "text": [
            "\n"
          ]
        },
        {
          "name": "stdout",
          "output_type": "stream",
          "text": [
            "2024-03-09 12:02:58,336 epoch 54 - iter 1/3 - loss 0.46172097 - time (sec): 3.93 - samples/sec: 1975.20 - lr: 0.025000 - momentum: 0.000000\n",
            "2024-03-09 12:03:02,548 epoch 54 - iter 2/3 - loss 0.48974973 - time (sec): 8.14 - samples/sec: 1782.07 - lr: 0.025000 - momentum: 0.000000\n",
            "2024-03-09 12:03:03,638 epoch 54 - iter 3/3 - loss 0.49636772 - time (sec): 9.23 - samples/sec: 1760.09 - lr: 0.025000 - momentum: 0.000000\n",
            "2024-03-09 12:03:03,639 ----------------------------------------------------------------------------------------------------\n",
            "2024-03-09 12:03:03,641 EPOCH 54 done: loss 0.4964 - lr: 0.025000\n"
          ]
        },
        {
          "name": "stderr",
          "output_type": "stream",
          "text": [
            "100%|██████████| 1/1 [00:00<00:00,  1.66it/s]"
          ]
        },
        {
          "name": "stdout",
          "output_type": "stream",
          "text": [
            "2024-03-09 12:03:04,257 DEV : loss 0.5302504301071167 - f1-score (micro avg)  0.3192\n",
            "2024-03-09 12:03:04,263  - 4 epochs without improvement (above 'patience')-> annealing learning_rate to [0.0125]\n",
            "2024-03-09 12:03:04,265 ----------------------------------------------------------------------------------------------------\n"
          ]
        },
        {
          "name": "stderr",
          "output_type": "stream",
          "text": [
            "\n"
          ]
        },
        {
          "name": "stdout",
          "output_type": "stream",
          "text": [
            "2024-03-09 12:03:07,407 epoch 55 - iter 1/3 - loss 0.49812915 - time (sec): 3.14 - samples/sec: 1965.01 - lr: 0.012500 - momentum: 0.000000\n",
            "2024-03-09 12:03:11,191 epoch 55 - iter 2/3 - loss 0.49002768 - time (sec): 6.93 - samples/sec: 1889.74 - lr: 0.012500 - momentum: 0.000000\n",
            "2024-03-09 12:03:12,904 epoch 55 - iter 3/3 - loss 0.49008657 - time (sec): 8.64 - samples/sec: 1879.97 - lr: 0.012500 - momentum: 0.000000\n",
            "2024-03-09 12:03:12,906 ----------------------------------------------------------------------------------------------------\n",
            "2024-03-09 12:03:12,907 EPOCH 55 done: loss 0.4901 - lr: 0.012500\n"
          ]
        },
        {
          "name": "stderr",
          "output_type": "stream",
          "text": [
            "100%|██████████| 1/1 [00:00<00:00,  1.55it/s]"
          ]
        },
        {
          "name": "stdout",
          "output_type": "stream",
          "text": [
            "2024-03-09 12:03:13,565 DEV : loss 0.526094913482666 - f1-score (micro avg)  0.3203\n",
            "2024-03-09 12:03:13,571  - 1 epochs without improvement\n",
            "2024-03-09 12:03:13,573 ----------------------------------------------------------------------------------------------------\n"
          ]
        },
        {
          "name": "stderr",
          "output_type": "stream",
          "text": [
            "\n"
          ]
        },
        {
          "name": "stdout",
          "output_type": "stream",
          "text": [
            "2024-03-09 12:03:17,556 epoch 56 - iter 1/3 - loss 0.42669561 - time (sec): 3.98 - samples/sec: 1916.12 - lr: 0.012500 - momentum: 0.000000\n",
            "2024-03-09 12:03:21,573 epoch 56 - iter 2/3 - loss 0.48190704 - time (sec): 8.00 - samples/sec: 1794.93 - lr: 0.012500 - momentum: 0.000000\n",
            "2024-03-09 12:03:22,528 epoch 56 - iter 3/3 - loss 0.47813149 - time (sec): 8.95 - samples/sec: 1813.73 - lr: 0.012500 - momentum: 0.000000\n",
            "2024-03-09 12:03:22,529 ----------------------------------------------------------------------------------------------------\n",
            "2024-03-09 12:03:22,530 EPOCH 56 done: loss 0.4781 - lr: 0.012500\n"
          ]
        },
        {
          "name": "stderr",
          "output_type": "stream",
          "text": [
            "100%|██████████| 1/1 [00:00<00:00,  1.41it/s]"
          ]
        },
        {
          "name": "stdout",
          "output_type": "stream",
          "text": [
            "2024-03-09 12:03:23,255 DEV : loss 0.5203772783279419 - f1-score (micro avg)  0.3282\n",
            "2024-03-09 12:03:23,262  - 2 epochs without improvement\n",
            "2024-03-09 12:03:23,263 ----------------------------------------------------------------------------------------------------\n"
          ]
        },
        {
          "name": "stderr",
          "output_type": "stream",
          "text": [
            "\n"
          ]
        },
        {
          "name": "stdout",
          "output_type": "stream",
          "text": [
            "2024-03-09 12:03:27,263 epoch 57 - iter 1/3 - loss 0.49615519 - time (sec): 4.00 - samples/sec: 1764.79 - lr: 0.012500 - momentum: 0.000000\n",
            "2024-03-09 12:03:31,397 epoch 57 - iter 2/3 - loss 0.47881471 - time (sec): 8.13 - samples/sec: 1744.19 - lr: 0.012500 - momentum: 0.000000\n",
            "2024-03-09 12:03:32,402 epoch 57 - iter 3/3 - loss 0.48253180 - time (sec): 9.14 - samples/sec: 1777.29 - lr: 0.012500 - momentum: 0.000000\n",
            "2024-03-09 12:03:32,403 ----------------------------------------------------------------------------------------------------\n",
            "2024-03-09 12:03:32,404 EPOCH 57 done: loss 0.4825 - lr: 0.012500\n"
          ]
        },
        {
          "name": "stderr",
          "output_type": "stream",
          "text": [
            "100%|██████████| 1/1 [00:00<00:00,  1.40it/s]"
          ]
        },
        {
          "name": "stdout",
          "output_type": "stream",
          "text": [
            "2024-03-09 12:03:33,138 DEV : loss 0.5217305421829224 - f1-score (micro avg)  0.3135\n",
            "2024-03-09 12:03:33,145  - 3 epochs without improvement\n",
            "2024-03-09 12:03:33,146 ----------------------------------------------------------------------------------------------------\n"
          ]
        },
        {
          "name": "stderr",
          "output_type": "stream",
          "text": [
            "\n"
          ]
        },
        {
          "name": "stdout",
          "output_type": "stream",
          "text": [
            "2024-03-09 12:03:36,856 epoch 58 - iter 1/3 - loss 0.43482427 - time (sec): 3.71 - samples/sec: 1844.57 - lr: 0.012500 - momentum: 0.000000\n",
            "2024-03-09 12:03:41,067 epoch 58 - iter 2/3 - loss 0.47036139 - time (sec): 7.92 - samples/sec: 1791.84 - lr: 0.012500 - momentum: 0.000000\n",
            "2024-03-09 12:03:42,551 epoch 58 - iter 3/3 - loss 0.47436932 - time (sec): 9.40 - samples/sec: 1727.04 - lr: 0.012500 - momentum: 0.000000\n",
            "2024-03-09 12:03:42,552 ----------------------------------------------------------------------------------------------------\n",
            "2024-03-09 12:03:42,553 EPOCH 58 done: loss 0.4744 - lr: 0.012500\n"
          ]
        },
        {
          "name": "stderr",
          "output_type": "stream",
          "text": [
            "100%|██████████| 1/1 [00:00<00:00,  1.44it/s]"
          ]
        },
        {
          "name": "stdout",
          "output_type": "stream",
          "text": [
            "2024-03-09 12:03:43,265 DEV : loss 0.5161085724830627 - f1-score (micro avg)  0.3354\n",
            "2024-03-09 12:03:43,273  - 4 epochs without improvement (above 'patience')-> annealing learning_rate to [0.00625]\n",
            "2024-03-09 12:03:43,275 ----------------------------------------------------------------------------------------------------\n"
          ]
        },
        {
          "name": "stderr",
          "output_type": "stream",
          "text": [
            "\n"
          ]
        },
        {
          "name": "stdout",
          "output_type": "stream",
          "text": [
            "2024-03-09 12:03:46,729 epoch 59 - iter 1/3 - loss 0.48640396 - time (sec): 3.45 - samples/sec: 1759.73 - lr: 0.006250 - momentum: 0.000000\n",
            "2024-03-09 12:03:50,889 epoch 59 - iter 2/3 - loss 0.48903246 - time (sec): 7.61 - samples/sec: 1800.30 - lr: 0.006250 - momentum: 0.000000\n",
            "2024-03-09 12:03:52,318 epoch 59 - iter 3/3 - loss 0.47695577 - time (sec): 9.04 - samples/sec: 1795.86 - lr: 0.006250 - momentum: 0.000000\n",
            "2024-03-09 12:03:52,320 ----------------------------------------------------------------------------------------------------\n",
            "2024-03-09 12:03:52,321 EPOCH 59 done: loss 0.4770 - lr: 0.006250\n"
          ]
        },
        {
          "name": "stderr",
          "output_type": "stream",
          "text": [
            "100%|██████████| 1/1 [00:00<00:00,  1.64it/s]"
          ]
        },
        {
          "name": "stdout",
          "output_type": "stream",
          "text": [
            "2024-03-09 12:03:52,947 DEV : loss 0.5178752541542053 - f1-score (micro avg)  0.3208\n",
            "2024-03-09 12:03:52,954  - 1 epochs without improvement\n",
            "2024-03-09 12:03:52,955 ----------------------------------------------------------------------------------------------------\n"
          ]
        },
        {
          "name": "stderr",
          "output_type": "stream",
          "text": [
            "\n"
          ]
        },
        {
          "name": "stdout",
          "output_type": "stream",
          "text": [
            "2024-03-09 12:03:56,832 epoch 60 - iter 1/3 - loss 0.54138753 - time (sec): 3.88 - samples/sec: 1786.93 - lr: 0.006250 - momentum: 0.000000\n",
            "2024-03-09 12:04:01,018 epoch 60 - iter 2/3 - loss 0.48221901 - time (sec): 8.06 - samples/sec: 1693.35 - lr: 0.006250 - momentum: 0.000000\n",
            "2024-03-09 12:04:02,548 epoch 60 - iter 3/3 - loss 0.47160428 - time (sec): 9.59 - samples/sec: 1693.04 - lr: 0.006250 - momentum: 0.000000\n",
            "2024-03-09 12:04:02,550 ----------------------------------------------------------------------------------------------------\n",
            "2024-03-09 12:04:02,551 EPOCH 60 done: loss 0.4716 - lr: 0.006250\n"
          ]
        },
        {
          "name": "stderr",
          "output_type": "stream",
          "text": [
            "100%|██████████| 1/1 [00:00<00:00,  1.59it/s]"
          ]
        },
        {
          "name": "stdout",
          "output_type": "stream",
          "text": [
            "2024-03-09 12:04:03,198 DEV : loss 0.5141399502754211 - f1-score (micro avg)  0.324\n",
            "2024-03-09 12:04:03,204  - 2 epochs without improvement\n",
            "2024-03-09 12:04:03,205 ----------------------------------------------------------------------------------------------------\n"
          ]
        },
        {
          "name": "stderr",
          "output_type": "stream",
          "text": [
            "\n"
          ]
        },
        {
          "name": "stdout",
          "output_type": "stream",
          "text": [
            "2024-03-09 12:04:07,209 epoch 61 - iter 1/3 - loss 0.39447209 - time (sec): 4.00 - samples/sec: 1995.77 - lr: 0.006250 - momentum: 0.000000\n",
            "2024-03-09 12:04:11,243 epoch 61 - iter 2/3 - loss 0.45565735 - time (sec): 8.04 - samples/sec: 1754.87 - lr: 0.006250 - momentum: 0.000000\n",
            "2024-03-09 12:04:12,388 epoch 61 - iter 3/3 - loss 0.47225697 - time (sec): 9.18 - samples/sec: 1768.59 - lr: 0.006250 - momentum: 0.000000\n",
            "2024-03-09 12:04:12,390 ----------------------------------------------------------------------------------------------------\n",
            "2024-03-09 12:04:12,392 EPOCH 61 done: loss 0.4723 - lr: 0.006250\n"
          ]
        },
        {
          "name": "stderr",
          "output_type": "stream",
          "text": [
            "100%|██████████| 1/1 [00:00<00:00,  1.51it/s]"
          ]
        },
        {
          "name": "stdout",
          "output_type": "stream",
          "text": [
            "2024-03-09 12:04:13,069 DEV : loss 0.5126467943191528 - f1-score (micro avg)  0.3101\n",
            "2024-03-09 12:04:13,075  - 3 epochs without improvement\n",
            "2024-03-09 12:04:13,077 ----------------------------------------------------------------------------------------------------\n"
          ]
        },
        {
          "name": "stderr",
          "output_type": "stream",
          "text": [
            "\n"
          ]
        },
        {
          "name": "stdout",
          "output_type": "stream",
          "text": [
            "2024-03-09 12:04:17,242 epoch 62 - iter 1/3 - loss 0.43922207 - time (sec): 4.16 - samples/sec: 2078.91 - lr: 0.006250 - momentum: 0.000000\n",
            "2024-03-09 12:04:21,455 epoch 62 - iter 2/3 - loss 0.46039807 - time (sec): 8.38 - samples/sec: 1714.99 - lr: 0.006250 - momentum: 0.000000\n",
            "2024-03-09 12:04:22,770 epoch 62 - iter 3/3 - loss 0.46347752 - time (sec): 9.69 - samples/sec: 1675.59 - lr: 0.006250 - momentum: 0.000000\n",
            "2024-03-09 12:04:22,771 ----------------------------------------------------------------------------------------------------\n",
            "2024-03-09 12:04:22,772 EPOCH 62 done: loss 0.4635 - lr: 0.006250\n"
          ]
        },
        {
          "name": "stderr",
          "output_type": "stream",
          "text": [
            "100%|██████████| 1/1 [00:00<00:00,  1.39it/s]"
          ]
        },
        {
          "name": "stdout",
          "output_type": "stream",
          "text": [
            "2024-03-09 12:04:23,506 DEV : loss 0.5124472379684448 - f1-score (micro avg)  0.3403\n",
            "2024-03-09 12:04:23,513  - 4 epochs without improvement (above 'patience')-> annealing learning_rate to [0.003125]\n",
            "2024-03-09 12:04:23,514 ----------------------------------------------------------------------------------------------------\n"
          ]
        },
        {
          "name": "stderr",
          "output_type": "stream",
          "text": [
            "\n"
          ]
        },
        {
          "name": "stdout",
          "output_type": "stream",
          "text": [
            "2024-03-09 12:04:26,830 epoch 63 - iter 1/3 - loss 0.52048842 - time (sec): 3.31 - samples/sec: 1929.43 - lr: 0.003125 - momentum: 0.000000\n",
            "2024-03-09 12:04:30,890 epoch 63 - iter 2/3 - loss 0.45274197 - time (sec): 7.37 - samples/sec: 1876.64 - lr: 0.003125 - momentum: 0.000000\n",
            "2024-03-09 12:04:32,546 epoch 63 - iter 3/3 - loss 0.46848421 - time (sec): 9.03 - samples/sec: 1798.37 - lr: 0.003125 - momentum: 0.000000\n",
            "2024-03-09 12:04:32,547 ----------------------------------------------------------------------------------------------------\n",
            "2024-03-09 12:04:32,548 EPOCH 63 done: loss 0.4685 - lr: 0.003125\n"
          ]
        },
        {
          "name": "stderr",
          "output_type": "stream",
          "text": [
            "100%|██████████| 1/1 [00:00<00:00,  1.32it/s]"
          ]
        },
        {
          "name": "stdout",
          "output_type": "stream",
          "text": [
            "2024-03-09 12:04:33,322 DEV : loss 0.5111045837402344 - f1-score (micro avg)  0.3303\n",
            "2024-03-09 12:04:33,329  - 1 epochs without improvement\n",
            "2024-03-09 12:04:33,330 ----------------------------------------------------------------------------------------------------\n"
          ]
        },
        {
          "name": "stderr",
          "output_type": "stream",
          "text": [
            "\n"
          ]
        },
        {
          "name": "stdout",
          "output_type": "stream",
          "text": [
            "2024-03-09 12:04:36,626 epoch 64 - iter 1/3 - loss 0.49215414 - time (sec): 3.30 - samples/sec: 1954.44 - lr: 0.003125 - momentum: 0.000000\n",
            "2024-03-09 12:04:40,901 epoch 64 - iter 2/3 - loss 0.48724379 - time (sec): 7.57 - samples/sec: 1866.22 - lr: 0.003125 - momentum: 0.000000\n",
            "2024-03-09 12:04:42,208 epoch 64 - iter 3/3 - loss 0.47322427 - time (sec): 8.88 - samples/sec: 1829.36 - lr: 0.003125 - momentum: 0.000000\n",
            "2024-03-09 12:04:42,210 ----------------------------------------------------------------------------------------------------\n",
            "2024-03-09 12:04:42,211 EPOCH 64 done: loss 0.4732 - lr: 0.003125\n"
          ]
        },
        {
          "name": "stderr",
          "output_type": "stream",
          "text": [
            "100%|██████████| 1/1 [00:00<00:00,  1.54it/s]"
          ]
        },
        {
          "name": "stdout",
          "output_type": "stream",
          "text": [
            "2024-03-09 12:04:42,878 DEV : loss 0.5108776688575745 - f1-score (micro avg)  0.3303\n",
            "2024-03-09 12:04:42,884  - 2 epochs without improvement\n",
            "2024-03-09 12:04:42,885 ----------------------------------------------------------------------------------------------------\n"
          ]
        },
        {
          "name": "stderr",
          "output_type": "stream",
          "text": [
            "\n"
          ]
        },
        {
          "name": "stdout",
          "output_type": "stream",
          "text": [
            "2024-03-09 12:04:46,913 epoch 65 - iter 1/3 - loss 0.44330223 - time (sec): 4.03 - samples/sec: 1714.80 - lr: 0.003125 - momentum: 0.000000\n",
            "2024-03-09 12:04:51,045 epoch 65 - iter 2/3 - loss 0.47453526 - time (sec): 8.16 - samples/sec: 1666.70 - lr: 0.003125 - momentum: 0.000000\n",
            "2024-03-09 12:04:52,656 epoch 65 - iter 3/3 - loss 0.46570979 - time (sec): 9.77 - samples/sec: 1662.23 - lr: 0.003125 - momentum: 0.000000\n",
            "2024-03-09 12:04:52,658 ----------------------------------------------------------------------------------------------------\n",
            "2024-03-09 12:04:52,659 EPOCH 65 done: loss 0.4657 - lr: 0.003125\n"
          ]
        },
        {
          "name": "stderr",
          "output_type": "stream",
          "text": [
            "100%|██████████| 1/1 [00:00<00:00,  1.24it/s]"
          ]
        },
        {
          "name": "stdout",
          "output_type": "stream",
          "text": [
            "2024-03-09 12:04:53,481 DEV : loss 0.5094311833381653 - f1-score (micro avg)  0.322\n",
            "2024-03-09 12:04:53,487  - 3 epochs without improvement\n",
            "2024-03-09 12:04:53,488 ----------------------------------------------------------------------------------------------------\n"
          ]
        },
        {
          "name": "stderr",
          "output_type": "stream",
          "text": [
            "\n"
          ]
        },
        {
          "name": "stdout",
          "output_type": "stream",
          "text": [
            "2024-03-09 12:04:57,184 epoch 66 - iter 1/3 - loss 0.41420602 - time (sec): 3.70 - samples/sec: 1966.63 - lr: 0.003125 - momentum: 0.000000\n",
            "2024-03-09 12:05:01,271 epoch 66 - iter 2/3 - loss 0.47229543 - time (sec): 7.78 - samples/sec: 1782.12 - lr: 0.003125 - momentum: 0.000000\n",
            "2024-03-09 12:05:02,879 epoch 66 - iter 3/3 - loss 0.46763441 - time (sec): 9.39 - samples/sec: 1729.51 - lr: 0.003125 - momentum: 0.000000\n",
            "2024-03-09 12:05:02,881 ----------------------------------------------------------------------------------------------------\n",
            "2024-03-09 12:05:02,881 EPOCH 66 done: loss 0.4676 - lr: 0.003125\n"
          ]
        },
        {
          "name": "stderr",
          "output_type": "stream",
          "text": [
            "100%|██████████| 1/1 [00:00<00:00,  1.46it/s]"
          ]
        },
        {
          "name": "stdout",
          "output_type": "stream",
          "text": [
            "2024-03-09 12:05:03,580 DEV : loss 0.5080835223197937 - f1-score (micro avg)  0.32\n",
            "2024-03-09 12:05:03,586  - 4 epochs without improvement (above 'patience')-> annealing learning_rate to [0.0015625]\n",
            "2024-03-09 12:05:03,587 ----------------------------------------------------------------------------------------------------\n"
          ]
        },
        {
          "name": "stderr",
          "output_type": "stream",
          "text": [
            "\n"
          ]
        },
        {
          "name": "stdout",
          "output_type": "stream",
          "text": [
            "2024-03-09 12:05:07,430 epoch 67 - iter 1/3 - loss 0.48773090 - time (sec): 3.84 - samples/sec: 1871.42 - lr: 0.001563 - momentum: 0.000000\n",
            "2024-03-09 12:05:11,680 epoch 67 - iter 2/3 - loss 0.47630026 - time (sec): 8.09 - samples/sec: 1732.13 - lr: 0.001563 - momentum: 0.000000\n",
            "2024-03-09 12:05:12,884 epoch 67 - iter 3/3 - loss 0.47523428 - time (sec): 9.30 - samples/sec: 1747.01 - lr: 0.001563 - momentum: 0.000000\n",
            "2024-03-09 12:05:12,886 ----------------------------------------------------------------------------------------------------\n",
            "2024-03-09 12:05:12,886 EPOCH 67 done: loss 0.4752 - lr: 0.001563\n"
          ]
        },
        {
          "name": "stderr",
          "output_type": "stream",
          "text": [
            "100%|██████████| 1/1 [00:00<00:00,  1.41it/s]"
          ]
        },
        {
          "name": "stdout",
          "output_type": "stream",
          "text": [
            "2024-03-09 12:05:13,610 DEV : loss 0.5076172947883606 - f1-score (micro avg)  0.32\n",
            "2024-03-09 12:05:13,616  - 1 epochs without improvement\n",
            "2024-03-09 12:05:13,618 ----------------------------------------------------------------------------------------------------\n"
          ]
        },
        {
          "name": "stderr",
          "output_type": "stream",
          "text": [
            "\n"
          ]
        },
        {
          "name": "stdout",
          "output_type": "stream",
          "text": [
            "2024-03-09 12:05:17,547 epoch 68 - iter 1/3 - loss 0.46057950 - time (sec): 3.93 - samples/sec: 1752.54 - lr: 0.001563 - momentum: 0.000000\n",
            "2024-03-09 12:05:21,559 epoch 68 - iter 2/3 - loss 0.48655932 - time (sec): 7.94 - samples/sec: 1681.17 - lr: 0.001563 - momentum: 0.000000\n",
            "2024-03-09 12:05:23,059 epoch 68 - iter 3/3 - loss 0.47013884 - time (sec): 9.44 - samples/sec: 1720.39 - lr: 0.001563 - momentum: 0.000000\n",
            "2024-03-09 12:05:23,060 ----------------------------------------------------------------------------------------------------\n",
            "2024-03-09 12:05:23,061 EPOCH 68 done: loss 0.4701 - lr: 0.001563\n"
          ]
        },
        {
          "name": "stderr",
          "output_type": "stream",
          "text": [
            "100%|██████████| 1/1 [00:00<00:00,  1.40it/s]"
          ]
        },
        {
          "name": "stdout",
          "output_type": "stream",
          "text": [
            "2024-03-09 12:05:23,792 DEV : loss 0.5069490671157837 - f1-score (micro avg)  0.32\n",
            "2024-03-09 12:05:23,799  - 2 epochs without improvement\n",
            "2024-03-09 12:05:23,800 ----------------------------------------------------------------------------------------------------\n"
          ]
        },
        {
          "name": "stderr",
          "output_type": "stream",
          "text": [
            "\n"
          ]
        },
        {
          "name": "stdout",
          "output_type": "stream",
          "text": [
            "2024-03-09 12:05:27,730 epoch 69 - iter 1/3 - loss 0.44502068 - time (sec): 3.93 - samples/sec: 1792.04 - lr: 0.001563 - momentum: 0.000000\n",
            "2024-03-09 12:05:31,869 epoch 69 - iter 2/3 - loss 0.45517847 - time (sec): 8.07 - samples/sec: 1787.76 - lr: 0.001563 - momentum: 0.000000\n",
            "2024-03-09 12:05:32,682 epoch 69 - iter 3/3 - loss 0.46677956 - time (sec): 8.88 - samples/sec: 1828.66 - lr: 0.001563 - momentum: 0.000000\n",
            "2024-03-09 12:05:32,683 ----------------------------------------------------------------------------------------------------\n",
            "2024-03-09 12:05:32,684 EPOCH 69 done: loss 0.4668 - lr: 0.001563\n"
          ]
        },
        {
          "name": "stderr",
          "output_type": "stream",
          "text": [
            "100%|██████████| 1/1 [00:00<00:00,  1.34it/s]"
          ]
        },
        {
          "name": "stdout",
          "output_type": "stream",
          "text": [
            "2024-03-09 12:05:33,449 DEV : loss 0.5069826245307922 - f1-score (micro avg)  0.32\n",
            "2024-03-09 12:05:33,456  - 3 epochs without improvement\n",
            "2024-03-09 12:05:33,457 ----------------------------------------------------------------------------------------------------\n"
          ]
        },
        {
          "name": "stderr",
          "output_type": "stream",
          "text": [
            "\n"
          ]
        },
        {
          "name": "stdout",
          "output_type": "stream",
          "text": [
            "2024-03-09 12:05:37,335 epoch 70 - iter 1/3 - loss 0.45913172 - time (sec): 3.88 - samples/sec: 1795.07 - lr: 0.001563 - momentum: 0.000000\n",
            "2024-03-09 12:05:41,450 epoch 70 - iter 2/3 - loss 0.49175937 - time (sec): 7.99 - samples/sec: 1748.93 - lr: 0.001563 - momentum: 0.000000\n",
            "2024-03-09 12:05:42,909 epoch 70 - iter 3/3 - loss 0.47048689 - time (sec): 9.45 - samples/sec: 1718.29 - lr: 0.001563 - momentum: 0.000000\n",
            "2024-03-09 12:05:42,912 ----------------------------------------------------------------------------------------------------\n",
            "2024-03-09 12:05:42,912 EPOCH 70 done: loss 0.4705 - lr: 0.001563\n"
          ]
        },
        {
          "name": "stderr",
          "output_type": "stream",
          "text": [
            "100%|██████████| 1/1 [00:00<00:00,  1.60it/s]"
          ]
        },
        {
          "name": "stdout",
          "output_type": "stream",
          "text": [
            "2024-03-09 12:05:43,555 DEV : loss 0.5066407322883606 - f1-score (micro avg)  0.322\n",
            "2024-03-09 12:05:43,561  - 4 epochs without improvement (above 'patience')-> annealing learning_rate to [0.00078125]\n",
            "2024-03-09 12:05:43,563 ----------------------------------------------------------------------------------------------------\n"
          ]
        },
        {
          "name": "stderr",
          "output_type": "stream",
          "text": [
            "\n"
          ]
        },
        {
          "name": "stdout",
          "output_type": "stream",
          "text": [
            "2024-03-09 12:05:47,015 epoch 71 - iter 1/3 - loss 0.45833805 - time (sec): 3.45 - samples/sec: 1759.25 - lr: 0.000781 - momentum: 0.000000\n",
            "2024-03-09 12:05:51,287 epoch 71 - iter 2/3 - loss 0.45862686 - time (sec): 7.72 - samples/sec: 1848.24 - lr: 0.000781 - momentum: 0.000000\n",
            "2024-03-09 12:05:52,154 epoch 71 - iter 3/3 - loss 0.45807624 - time (sec): 8.59 - samples/sec: 1890.60 - lr: 0.000781 - momentum: 0.000000\n",
            "2024-03-09 12:05:52,156 ----------------------------------------------------------------------------------------------------\n",
            "2024-03-09 12:05:52,157 EPOCH 71 done: loss 0.4581 - lr: 0.000781\n"
          ]
        },
        {
          "name": "stderr",
          "output_type": "stream",
          "text": [
            "100%|██████████| 1/1 [00:00<00:00,  1.62it/s]"
          ]
        },
        {
          "name": "stdout",
          "output_type": "stream",
          "text": [
            "2024-03-09 12:05:52,788 DEV : loss 0.5063771605491638 - f1-score (micro avg)  0.322\n",
            "2024-03-09 12:05:52,795  - 1 epochs without improvement\n",
            "2024-03-09 12:05:52,796 ----------------------------------------------------------------------------------------------------\n"
          ]
        },
        {
          "name": "stderr",
          "output_type": "stream",
          "text": [
            "\n"
          ]
        },
        {
          "name": "stdout",
          "output_type": "stream",
          "text": [
            "2024-03-09 12:05:56,473 epoch 72 - iter 1/3 - loss 0.44365121 - time (sec): 3.68 - samples/sec: 1895.71 - lr: 0.000781 - momentum: 0.000000\n",
            "2024-03-09 12:06:00,541 epoch 72 - iter 2/3 - loss 0.45471276 - time (sec): 7.74 - samples/sec: 1785.33 - lr: 0.000781 - momentum: 0.000000\n",
            "2024-03-09 12:06:02,078 epoch 72 - iter 3/3 - loss 0.46788974 - time (sec): 9.28 - samples/sec: 1749.89 - lr: 0.000781 - momentum: 0.000000\n",
            "2024-03-09 12:06:02,080 ----------------------------------------------------------------------------------------------------\n",
            "2024-03-09 12:06:02,081 EPOCH 72 done: loss 0.4679 - lr: 0.000781\n"
          ]
        },
        {
          "name": "stderr",
          "output_type": "stream",
          "text": [
            "100%|██████████| 1/1 [00:00<00:00,  1.56it/s]"
          ]
        },
        {
          "name": "stdout",
          "output_type": "stream",
          "text": [
            "2024-03-09 12:06:02,739 DEV : loss 0.5062839388847351 - f1-score (micro avg)  0.322\n",
            "2024-03-09 12:06:02,745  - 2 epochs without improvement\n",
            "2024-03-09 12:06:02,747 ----------------------------------------------------------------------------------------------------\n"
          ]
        },
        {
          "name": "stderr",
          "output_type": "stream",
          "text": [
            "\n"
          ]
        },
        {
          "name": "stdout",
          "output_type": "stream",
          "text": [
            "2024-03-09 12:06:06,689 epoch 73 - iter 1/3 - loss 0.48136292 - time (sec): 3.94 - samples/sec: 1720.68 - lr: 0.000781 - momentum: 0.000000\n",
            "2024-03-09 12:06:10,471 epoch 73 - iter 2/3 - loss 0.48201417 - time (sec): 7.72 - samples/sec: 1777.20 - lr: 0.000781 - momentum: 0.000000\n",
            "2024-03-09 12:06:11,979 epoch 73 - iter 3/3 - loss 0.46649910 - time (sec): 9.23 - samples/sec: 1759.42 - lr: 0.000781 - momentum: 0.000000\n",
            "2024-03-09 12:06:11,980 ----------------------------------------------------------------------------------------------------\n",
            "2024-03-09 12:06:11,981 EPOCH 73 done: loss 0.4665 - lr: 0.000781\n"
          ]
        },
        {
          "name": "stderr",
          "output_type": "stream",
          "text": [
            "100%|██████████| 1/1 [00:00<00:00,  1.61it/s]"
          ]
        },
        {
          "name": "stdout",
          "output_type": "stream",
          "text": [
            "2024-03-09 12:06:12,617 DEV : loss 0.5062870383262634 - f1-score (micro avg)  0.3272\n",
            "2024-03-09 12:06:12,623  - 3 epochs without improvement\n",
            "2024-03-09 12:06:12,624 ----------------------------------------------------------------------------------------------------\n"
          ]
        },
        {
          "name": "stderr",
          "output_type": "stream",
          "text": [
            "\n"
          ]
        },
        {
          "name": "stdout",
          "output_type": "stream",
          "text": [
            "2024-03-09 12:06:14,708 epoch 74 - iter 1/3 - loss 0.50969696 - time (sec): 2.08 - samples/sec: 3087.35 - lr: 0.000781 - momentum: 0.000000\n",
            "2024-03-09 12:06:18,782 epoch 74 - iter 2/3 - loss 0.47765155 - time (sec): 6.16 - samples/sec: 2247.80 - lr: 0.000781 - momentum: 0.000000\n",
            "2024-03-09 12:06:20,068 epoch 74 - iter 3/3 - loss 0.46738197 - time (sec): 7.44 - samples/sec: 2182.18 - lr: 0.000781 - momentum: 0.000000\n",
            "2024-03-09 12:06:20,070 ----------------------------------------------------------------------------------------------------\n",
            "2024-03-09 12:06:20,071 EPOCH 74 done: loss 0.4674 - lr: 0.000781\n"
          ]
        },
        {
          "name": "stderr",
          "output_type": "stream",
          "text": [
            "100%|██████████| 1/1 [00:00<00:00,  1.69it/s]"
          ]
        },
        {
          "name": "stdout",
          "output_type": "stream",
          "text": [
            "2024-03-09 12:06:20,676 DEV : loss 0.506267786026001 - f1-score (micro avg)  0.3272\n",
            "2024-03-09 12:06:20,682  - 4 epochs without improvement (above 'patience')-> annealing learning_rate to [0.000390625]\n",
            "2024-03-09 12:06:20,683 ----------------------------------------------------------------------------------------------------\n"
          ]
        },
        {
          "name": "stderr",
          "output_type": "stream",
          "text": [
            "\n"
          ]
        },
        {
          "name": "stdout",
          "output_type": "stream",
          "text": [
            "2024-03-09 12:06:24,351 epoch 75 - iter 1/3 - loss 0.47719781 - time (sec): 3.67 - samples/sec: 1941.82 - lr: 0.000391 - momentum: 0.000000\n",
            "2024-03-09 12:06:28,529 epoch 75 - iter 2/3 - loss 0.46321673 - time (sec): 7.85 - samples/sec: 1765.82 - lr: 0.000391 - momentum: 0.000000\n",
            "2024-03-09 12:06:30,009 epoch 75 - iter 3/3 - loss 0.46271973 - time (sec): 9.32 - samples/sec: 1741.56 - lr: 0.000391 - momentum: 0.000000\n",
            "2024-03-09 12:06:30,012 ----------------------------------------------------------------------------------------------------\n",
            "2024-03-09 12:06:30,012 EPOCH 75 done: loss 0.4627 - lr: 0.000391\n"
          ]
        },
        {
          "name": "stderr",
          "output_type": "stream",
          "text": [
            "100%|██████████| 1/1 [00:00<00:00,  1.67it/s]"
          ]
        },
        {
          "name": "stdout",
          "output_type": "stream",
          "text": [
            "2024-03-09 12:06:30,626 DEV : loss 0.5060924887657166 - f1-score (micro avg)  0.3272\n",
            "2024-03-09 12:06:30,632  - 1 epochs without improvement\n",
            "2024-03-09 12:06:30,633 ----------------------------------------------------------------------------------------------------\n"
          ]
        },
        {
          "name": "stderr",
          "output_type": "stream",
          "text": [
            "\n"
          ]
        },
        {
          "name": "stdout",
          "output_type": "stream",
          "text": [
            "2024-03-09 12:06:34,260 epoch 76 - iter 1/3 - loss 0.45482113 - time (sec): 3.63 - samples/sec: 2027.09 - lr: 0.000391 - momentum: 0.000000\n",
            "2024-03-09 12:06:38,317 epoch 76 - iter 2/3 - loss 0.46468096 - time (sec): 7.68 - samples/sec: 1842.71 - lr: 0.000391 - momentum: 0.000000\n",
            "2024-03-09 12:06:39,793 epoch 76 - iter 3/3 - loss 0.46124574 - time (sec): 9.16 - samples/sec: 1773.20 - lr: 0.000391 - momentum: 0.000000\n",
            "2024-03-09 12:06:39,795 ----------------------------------------------------------------------------------------------------\n",
            "2024-03-09 12:06:39,797 EPOCH 76 done: loss 0.4612 - lr: 0.000391\n"
          ]
        },
        {
          "name": "stderr",
          "output_type": "stream",
          "text": [
            "100%|██████████| 1/1 [00:00<00:00,  1.62it/s]"
          ]
        },
        {
          "name": "stdout",
          "output_type": "stream",
          "text": [
            "2024-03-09 12:06:40,429 DEV : loss 0.5059762001037598 - f1-score (micro avg)  0.3272\n",
            "2024-03-09 12:06:40,435  - 2 epochs without improvement\n",
            "2024-03-09 12:06:40,437 ----------------------------------------------------------------------------------------------------\n"
          ]
        },
        {
          "name": "stderr",
          "output_type": "stream",
          "text": [
            "\n"
          ]
        },
        {
          "name": "stdout",
          "output_type": "stream",
          "text": [
            "2024-03-09 12:06:44,323 epoch 77 - iter 1/3 - loss 0.44599637 - time (sec): 3.89 - samples/sec: 1837.42 - lr: 0.000391 - momentum: 0.000000\n",
            "2024-03-09 12:06:47,136 epoch 77 - iter 2/3 - loss 0.46150596 - time (sec): 6.70 - samples/sec: 1989.23 - lr: 0.000391 - momentum: 0.000000\n",
            "2024-03-09 12:06:48,741 epoch 77 - iter 3/3 - loss 0.45917692 - time (sec): 8.30 - samples/sec: 1955.76 - lr: 0.000391 - momentum: 0.000000\n",
            "2024-03-09 12:06:48,742 ----------------------------------------------------------------------------------------------------\n",
            "2024-03-09 12:06:48,743 EPOCH 77 done: loss 0.4592 - lr: 0.000391\n"
          ]
        },
        {
          "name": "stderr",
          "output_type": "stream",
          "text": [
            "100%|██████████| 1/1 [00:00<00:00,  1.63it/s]"
          ]
        },
        {
          "name": "stdout",
          "output_type": "stream",
          "text": [
            "2024-03-09 12:06:49,373 DEV : loss 0.5060303211212158 - f1-score (micro avg)  0.3272\n",
            "2024-03-09 12:06:49,379  - 3 epochs without improvement\n",
            "2024-03-09 12:06:49,380 ----------------------------------------------------------------------------------------------------\n"
          ]
        },
        {
          "name": "stderr",
          "output_type": "stream",
          "text": [
            "\n"
          ]
        },
        {
          "name": "stdout",
          "output_type": "stream",
          "text": [
            "2024-03-09 12:06:53,438 epoch 78 - iter 1/3 - loss 0.39816841 - time (sec): 4.06 - samples/sec: 1814.11 - lr: 0.000391 - momentum: 0.000000\n",
            "2024-03-09 12:06:57,368 epoch 78 - iter 2/3 - loss 0.44422618 - time (sec): 7.99 - samples/sec: 1775.68 - lr: 0.000391 - momentum: 0.000000\n",
            "2024-03-09 12:06:58,907 epoch 78 - iter 3/3 - loss 0.45525564 - time (sec): 9.53 - samples/sec: 1704.90 - lr: 0.000391 - momentum: 0.000000\n",
            "2024-03-09 12:06:58,909 ----------------------------------------------------------------------------------------------------\n",
            "2024-03-09 12:06:58,909 EPOCH 78 done: loss 0.4553 - lr: 0.000391\n"
          ]
        },
        {
          "name": "stderr",
          "output_type": "stream",
          "text": [
            "100%|██████████| 1/1 [00:00<00:00,  1.48it/s]"
          ]
        },
        {
          "name": "stdout",
          "output_type": "stream",
          "text": [
            "2024-03-09 12:06:59,600 DEV : loss 0.5059656500816345 - f1-score (micro avg)  0.3272\n",
            "2024-03-09 12:06:59,607  - 4 epochs without improvement (above 'patience')-> annealing learning_rate to [0.0001953125]\n",
            "2024-03-09 12:06:59,608 ----------------------------------------------------------------------------------------------------\n"
          ]
        },
        {
          "name": "stderr",
          "output_type": "stream",
          "text": [
            "\n"
          ]
        },
        {
          "name": "stdout",
          "output_type": "stream",
          "text": [
            "2024-03-09 12:07:03,474 epoch 79 - iter 1/3 - loss 0.44874918 - time (sec): 3.86 - samples/sec: 1715.67 - lr: 0.000195 - momentum: 0.000000\n",
            "2024-03-09 12:07:07,691 epoch 79 - iter 2/3 - loss 0.45314412 - time (sec): 8.08 - samples/sec: 1795.22 - lr: 0.000195 - momentum: 0.000000\n",
            "2024-03-09 12:07:08,404 epoch 79 - iter 3/3 - loss 0.46053497 - time (sec): 8.79 - samples/sec: 1846.58 - lr: 0.000195 - momentum: 0.000000\n",
            "2024-03-09 12:07:08,406 ----------------------------------------------------------------------------------------------------\n",
            "2024-03-09 12:07:08,407 EPOCH 79 done: loss 0.4605 - lr: 0.000195\n"
          ]
        },
        {
          "name": "stderr",
          "output_type": "stream",
          "text": [
            "100%|██████████| 1/1 [00:00<00:00,  1.47it/s]"
          ]
        },
        {
          "name": "stdout",
          "output_type": "stream",
          "text": [
            "2024-03-09 12:07:09,103 DEV : loss 0.5058954358100891 - f1-score (micro avg)  0.3272\n",
            "2024-03-09 12:07:09,110  - 1 epochs without improvement\n",
            "2024-03-09 12:07:09,111 ----------------------------------------------------------------------------------------------------\n"
          ]
        },
        {
          "name": "stderr",
          "output_type": "stream",
          "text": [
            "\n"
          ]
        },
        {
          "name": "stdout",
          "output_type": "stream",
          "text": [
            "2024-03-09 12:07:12,320 epoch 80 - iter 1/3 - loss 0.48114738 - time (sec): 3.21 - samples/sec: 2001.08 - lr: 0.000195 - momentum: 0.000000\n",
            "2024-03-09 12:07:16,674 epoch 80 - iter 2/3 - loss 0.47480634 - time (sec): 7.56 - samples/sec: 1906.73 - lr: 0.000195 - momentum: 0.000000\n",
            "2024-03-09 12:07:17,787 epoch 80 - iter 3/3 - loss 0.47306413 - time (sec): 8.67 - samples/sec: 1872.12 - lr: 0.000195 - momentum: 0.000000\n",
            "2024-03-09 12:07:17,789 ----------------------------------------------------------------------------------------------------\n",
            "2024-03-09 12:07:17,790 EPOCH 80 done: loss 0.4731 - lr: 0.000195\n"
          ]
        },
        {
          "name": "stderr",
          "output_type": "stream",
          "text": [
            "100%|██████████| 1/1 [00:00<00:00,  1.43it/s]"
          ]
        },
        {
          "name": "stdout",
          "output_type": "stream",
          "text": [
            "2024-03-09 12:07:18,507 DEV : loss 0.5057903528213501 - f1-score (micro avg)  0.3272\n",
            "2024-03-09 12:07:18,513  - 2 epochs without improvement\n",
            "2024-03-09 12:07:18,514 ----------------------------------------------------------------------------------------------------\n"
          ]
        },
        {
          "name": "stderr",
          "output_type": "stream",
          "text": [
            "\n"
          ]
        },
        {
          "name": "stdout",
          "output_type": "stream",
          "text": [
            "2024-03-09 12:07:22,594 epoch 81 - iter 1/3 - loss 0.45498025 - time (sec): 4.08 - samples/sec: 1947.34 - lr: 0.000195 - momentum: 0.000000\n",
            "2024-03-09 12:07:26,377 epoch 81 - iter 2/3 - loss 0.46934950 - time (sec): 7.86 - samples/sec: 1752.85 - lr: 0.000195 - momentum: 0.000000\n",
            "2024-03-09 12:07:27,896 epoch 81 - iter 3/3 - loss 0.45766265 - time (sec): 9.38 - samples/sec: 1731.18 - lr: 0.000195 - momentum: 0.000000\n",
            "2024-03-09 12:07:27,898 ----------------------------------------------------------------------------------------------------\n",
            "2024-03-09 12:07:27,899 EPOCH 81 done: loss 0.4577 - lr: 0.000195\n"
          ]
        },
        {
          "name": "stderr",
          "output_type": "stream",
          "text": [
            "100%|██████████| 1/1 [00:00<00:00,  1.44it/s]"
          ]
        },
        {
          "name": "stdout",
          "output_type": "stream",
          "text": [
            "2024-03-09 12:07:28,609 DEV : loss 0.5056821703910828 - f1-score (micro avg)  0.3272\n",
            "2024-03-09 12:07:28,615  - 3 epochs without improvement\n",
            "2024-03-09 12:07:28,616 ----------------------------------------------------------------------------------------------------\n"
          ]
        },
        {
          "name": "stderr",
          "output_type": "stream",
          "text": [
            "\n"
          ]
        },
        {
          "name": "stdout",
          "output_type": "stream",
          "text": [
            "2024-03-09 12:07:32,276 epoch 82 - iter 1/3 - loss 0.43949952 - time (sec): 3.66 - samples/sec: 1737.60 - lr: 0.000195 - momentum: 0.000000\n",
            "2024-03-09 12:07:36,471 epoch 82 - iter 2/3 - loss 0.47734879 - time (sec): 7.85 - samples/sec: 1755.33 - lr: 0.000195 - momentum: 0.000000\n",
            "2024-03-09 12:07:38,055 epoch 82 - iter 3/3 - loss 0.46473647 - time (sec): 9.44 - samples/sec: 1720.70 - lr: 0.000195 - momentum: 0.000000\n",
            "2024-03-09 12:07:38,057 ----------------------------------------------------------------------------------------------------\n",
            "2024-03-09 12:07:38,058 EPOCH 82 done: loss 0.4647 - lr: 0.000195\n"
          ]
        },
        {
          "name": "stderr",
          "output_type": "stream",
          "text": [
            "100%|██████████| 1/1 [00:00<00:00,  1.44it/s]"
          ]
        },
        {
          "name": "stdout",
          "output_type": "stream",
          "text": [
            "2024-03-09 12:07:38,767 DEV : loss 0.5056567192077637 - f1-score (micro avg)  0.3272\n",
            "2024-03-09 12:07:38,773  - 4 epochs without improvement (above 'patience')-> annealing learning_rate to [9.765625e-05]\n",
            "2024-03-09 12:07:38,774 ----------------------------------------------------------------------------------------------------\n",
            "2024-03-09 12:07:38,774 learning rate too small - quitting training!\n",
            "2024-03-09 12:07:38,775 ----------------------------------------------------------------------------------------------------\n",
            "2024-03-09 12:07:38,776 Saving model ...\n"
          ]
        },
        {
          "name": "stderr",
          "output_type": "stream",
          "text": [
            "\n"
          ]
        },
        {
          "name": "stdout",
          "output_type": "stream",
          "text": [
            "2024-03-09 12:07:39,818 Done.\n",
            "2024-03-09 12:07:39,819 ----------------------------------------------------------------------------------------------------\n",
            "2024-03-09 12:07:39,820 Loading model from best epoch ...\n",
            "2024-03-09 12:07:40,714 SequenceTagger predicts: Dictionary with 59 tags: O, S-ITEMNAME, B-ITEMNAME, E-ITEMNAME, I-ITEMNAME, S-AMOUNT, B-AMOUNT, E-AMOUNT, I-AMOUNT, S-PRICE, B-PRICE, E-PRICE, I-PRICE, S-HSN, B-HSN, E-HSN, I-HSN, S-QUANTITY, B-QUANTITY, E-QUANTITY, I-QUANTITY, S-UNIT, B-UNIT, E-UNIT, I-UNIT, S-VENDOR, B-VENDOR, E-VENDOR, I-VENDOR, S-CUSTOMER, B-CUSTOMER, E-CUSTOMER, I-CUSTOMER, S-VGSTIN, B-VGSTIN, E-VGSTIN, I-VGSTIN, S-GRANDTOTAL, B-GRANDTOTAL, E-GRANDTOTAL, I-GRANDTOTAL, S-TAXABLEAMT, B-TAXABLEAMT, E-TAXABLEAMT, I-TAXABLEAMT, S-INVOICEDATE, B-INVOICEDATE, E-INVOICEDATE, I-INVOICEDATE, S-INVOICENO\n"
          ]
        },
        {
          "name": "stderr",
          "output_type": "stream",
          "text": [
            "100%|██████████| 1/1 [00:03<00:00,  3.49s/it]"
          ]
        },
        {
          "name": "stdout",
          "output_type": "stream",
          "text": [
            "2024-03-09 12:07:44,531 \n",
            "Results:\n",
            "- F-score (micro) 0.2393\n",
            "- F-score (macro) 0.12\n",
            "- Accuracy 0.1423\n",
            "\n",
            "By class:\n",
            "              precision    recall  f1-score   support\n",
            "\n",
            "    ITEMNAME     0.2571    0.3214    0.2857        28\n",
            "         HSN     0.5000    0.7727    0.6071        22\n",
            "       PRICE     0.2174    0.2500    0.2326        20\n",
            "    QUANTITY     0.1538    0.0952    0.1176        21\n",
            "      AMOUNT     0.1429    0.0435    0.0667        23\n",
            "        UNIT     0.3333    0.4167    0.3704        12\n",
            "  TAXABLEAMT     0.0000    0.0000    0.0000         8\n",
            "   INVOICENO     0.0000    0.0000    0.0000        10\n",
            "  GRANDTOTAL     0.0000    0.0000    0.0000         8\n",
            " INVOICEDATE     0.0000    0.0000    0.0000         9\n",
            "      VENDOR     0.0000    0.0000    0.0000         9\n",
            "    CUSTOMER     0.0000    0.0000    0.0000         8\n",
            "      CGSTIN     0.0000    0.0000    0.0000         8\n",
            "      VGSTIN     0.0000    0.0000    0.0000         7\n",
            "\n",
            "   micro avg     0.2932    0.2021    0.2393       193\n",
            "   macro avg     0.1146    0.1357    0.1200       193\n",
            "weighted avg     0.1713    0.2021    0.1785       193\n",
            "\n",
            "2024-03-09 12:07:44,531 ----------------------------------------------------------------------------------------------------\n"
          ]
        },
        {
          "name": "stderr",
          "output_type": "stream",
          "text": [
            "\n"
          ]
        },
        {
          "data": {
            "text/plain": [
              "{'test_score': 0.2392638036809816}"
            ]
          },
          "execution_count": 4,
          "metadata": {},
          "output_type": "execute_result"
        }
      ],
      "source": [
        "from flair.models import SequenceTagger\n",
        "from flair.trainers import ModelTrainer\n",
        "\n",
        "label_type = 'ner'\n",
        "label_dict = corpus.make_label_dictionary(label_type=label_type, add_unk=False)\n",
        "\n",
        "# initialize sequence tagger\n",
        "tagger: SequenceTagger = SequenceTagger(hidden_size=256,\n",
        "                                        embeddings=embeddings,\n",
        "                                        tag_dictionary=label_dict,\n",
        "                                        tag_type=label_type\n",
        "                                        )\n",
        "\n",
        "# initialize trainer\n",
        "trainer: ModelTrainer = ModelTrainer(tagger, corpus)\n",
        "\n",
        "trainer.train('data/flair-ner',\n",
        "              learning_rate=0.1,\n",
        "              mini_batch_size=32,\n",
        "              max_epochs=150)"
      ]
    },
    {
      "cell_type": "code",
      "execution_count": 27,
      "metadata": {},
      "outputs": [
        {
          "name": "stdout",
          "output_type": "stream",
          "text": [
            "SequenceTagger(\n",
            "  (embeddings): WordEmbeddings(\n",
            "    'glove'\n",
            "    (embedding): Embedding(400001, 100)\n",
            "  )\n",
            "  (word_dropout): WordDropout(p=0.05)\n",
            "  (locked_dropout): LockedDropout(p=0.5)\n",
            "  (embedding2nn): Linear(in_features=100, out_features=100, bias=True)\n",
            "  (rnn): LSTM(100, 256, batch_first=True, bidirectional=True)\n",
            "  (linear): Linear(in_features=512, out_features=29, bias=True)\n",
            "  (loss_function): CrossEntropyLoss()\n",
            ")\n"
          ]
        }
      ],
      "source": [
        "print(tagger)"
      ]
    },
    {
      "cell_type": "markdown",
      "metadata": {
        "id": "X6AzZlatlXOX"
      },
      "source": [
        "### Load Trained Model"
      ]
    },
    {
      "cell_type": "code",
      "execution_count": 28,
      "metadata": {
        "colab": {
          "base_uri": "https://localhost:8080/"
        },
        "id": "5bVSPJsyjINk",
        "outputId": "9aaaa252-30fe-40c4-86ec-b30525c8810d"
      },
      "outputs": [
        {
          "name": "stdout",
          "output_type": "stream",
          "text": [
            "2024-03-08 19:17:17,981 SequenceTagger predicts: Dictionary with 29 tags: O, B-ITEMNAME, I-ITEMNAME, B-AMOUNT, I-AMOUNT, B-PRICE, I-PRICE, B-HSN, I-HSN, B-QUANTITY, I-QUANTITY, B-UNIT, I-UNIT, B-VENDOR, I-VENDOR, B-CUSTOMER, I-CUSTOMER, B-VGSTIN, I-VGSTIN, B-INVOICEDATE, I-INVOICEDATE, B-INVOICENO, I-INVOICENO, B-GRANDTOTAL, I-GRANDTOTAL, B-TAXABLEAMT, I-TAXABLEAMT, B-CGSTIN, I-CGSTIN\n",
            "Sentence[260]: \"tax invoice original for recipient invoice number invoice date haridhvarna agro llp 0064. 01/07/2023 spl plot no 3 industrial estate anavasi road sirsi ka - karnataka 581401 due date po number haridhvarna jyobile 9916706444 01/07/2023 9001 email haridhvarnaagro gmail.com gstin 29aapfh9297m1z4 po.nate 30/06/2023 fssai 21223172000136 rawgrnules private limited no 9 kerkai sagar - 577421 place of supply ka - karnataka mobile 1916362104056 gstin. 29aalcro358l1zu gstin 29aalcro358l1 dia vita mixed vegetable greens powder total amount in words taxable amount inr nineteen thousand nine hundred fifty rupees only eesrvaue terms and conditions if you have any questions about this invoice sgst value please contact haridhvarna agro llp. ph no 6362104056 sub-total net value goods once sold will not be taken back or exchanged subject to sirsi jurisdiction total amount. thank you for. your business received amount rawgrnules private limited no 9 kerkai sagar - 577421 mobile 1916362104056 zu 19000.00 475.00 2 475.00 19950.00 19950.00 0.00 fh balance amount 19950.00 t t imc i cgst sgst heniged i ipiable value i rate artouat rate anigune total tak amount oma ll as 000.00 2.5 475.00 2.5 2475.00 950.00 aad ot ct 4 ars00 e500 2950.00 upi id a i bank details for haridhvarna agro llp mabhatk oom name vitaminute hl ifsc code cnrbo010303 lie any uphapp wed account no 120000412812 bk due iii oy jpautin bank branch canara bank devikeri i a . road sirsi free gst billing and stock management using app authorised signature page of\"\n"
          ]
        }
      ],
      "source": [
        "from flair.data import Sentence\n",
        "\n",
        "# load the trained model\n",
        "model = SequenceTagger.load('data/flair-ner/final-model.pt')\n",
        "\n",
        "# create a sentence\n",
        "sentence = Sentence('tax invoice original for recipient invoice number invoice date haridhvarna agro llp 0064. 01/07/2023 spl plot no 3 industrial estate anavasi road sirsi ka - karnataka 581401 due date po number haridhvarna jyobile 9916706444 01/07/2023 9001 email haridhvarnaagro gmail.com gstin 29aapfh9297m1z4 po.nate 30/06/2023 fssai 21223172000136 rawgrnules private limited no 9 kerkai sagar - 577421 place of supply ka - karnataka mobile 1916362104056 gstin. 29aalcro358l1zu gstin 29aalcro358l1 dia vita mixed vegetable greens powder total amount in words taxable amount inr nineteen thousand nine hundred fifty rupees only eesrvaue terms and conditions if you have any questions about this invoice sgst value please contact haridhvarna agro llp. ph no 6362104056 sub-total net value goods once sold will not be taken back or exchanged subject to sirsi jurisdiction total amount. thank you for. your business received amount rawgrnules private limited no 9 kerkai sagar - 577421 mobile 1916362104056 zu 19000.00 475.00 2 475.00 19950.00 19950.00 0.00 fh balance amount 19950.00 t t imc i cgst sgst heniged i ipiable value i rate artouat rate anigune total tak amount oma ll as 000.00 2.5 475.00 2.5 2475.00 950.00 aad ot ct 4 ars00 e500 2950.00 upi id a i bank details for haridhvarna agro llp mabhatk oom name vitaminute hl ifsc code cnrbo010303 lie any uphapp wed account no 120000412812 bk due iii oy jpautin bank branch canara bank devikeri i a . road sirsi free gst billing and stock management using app authorised signature page of')\n",
        "\n",
        "# predict the tags\n",
        "model.predict(sentence)\n",
        "\n",
        "# print the sentence with predicted tags\n",
        "print(sentence.to_tagged_string())"
      ]
    },
    {
      "cell_type": "code",
      "execution_count": null,
      "metadata": {
        "id": "ldbFEYrPuNBk"
      },
      "outputs": [],
      "source": [
        "from collections import defaultdict\n",
        "\n",
        "def calculate_metrics(spacy_output, validation_data):\n",
        "    TP = defaultdict(int)\n",
        "    FP = defaultdict(int)\n",
        "    FN = defaultdict(int)\n",
        "\n",
        "    for doc, annotation in zip(spacy_output, validation_data):\n",
        "        spacy_entities = set((ent.start_char, ent.end_char, ent.label_) for ent in doc.ents)\n",
        "        test_entities = set((start, end, label) for start, end, label in annotation[1]['entities'])\n",
        "\n",
        "        for entity in spacy_entities:\n",
        "            if entity in test_entities:\n",
        "                TP[entity[2]] += 1\n",
        "            else:\n",
        "                FP[entity[2]] += 1\n",
        "\n",
        "        for entity in test_entities:\n",
        "            if entity not in spacy_entities:\n",
        "                FN[entity[2]] += 1\n",
        "\n",
        "    metrics = {}\n",
        "    for label in classes:\n",
        "        precision = TP[label] / (TP[label] + FP[label]) if TP[label] + FP[label] != 0 else 0\n",
        "        recall = TP[label] / (TP[label] + FN[label]) if TP[label] + FN[label] != 0 else 0\n",
        "        f1_score = 2 * (precision * recall) / (precision + recall) if precision + recall != 0 else 0\n",
        "\n",
        "        metrics[label] = {'precision': precision, 'recall': recall, 'f1_score': f1_score}\n",
        "\n",
        "    return metrics"
      ]
    },
    {
      "cell_type": "code",
      "execution_count": null,
      "metadata": {
        "id": "8S66bceUvoYk"
      },
      "outputs": [],
      "source": [
        "from sklearn.metrics import confusion_matrix\n",
        "import matplotlib.pyplot as plt\n",
        "import seaborn as sns\n",
        "\n",
        "def calculate_confusion_matrix(spacy_output, validation_data):\n",
        "    y_true = []\n",
        "    y_pred = []\n",
        "\n",
        "    for doc, annotation in zip(spacy_output, validation_data):\n",
        "        spacy_entities = set((ent.start_char, ent.end_char, ent.label_) for ent in doc.ents)\n",
        "        test_entities = set((start, end, label) for start, end, label in annotation[1]['entities'])\n",
        "\n",
        "        for entity in test_entities:\n",
        "            y_true.append(entity[2])\n",
        "            if entity in spacy_entities:\n",
        "                y_pred.append(entity[2])\n",
        "            else:\n",
        "                y_pred.append('None')\n",
        "\n",
        "    labels = list(set(y_true + y_pred))\n",
        "    cm = confusion_matrix(y_true, y_pred, labels=labels)\n",
        "\n",
        "    plt.figure(figsize=(10, 7))\n",
        "    sns.heatmap(cm, annot=True, fmt='d', xticklabels=labels, yticklabels=labels)\n",
        "    plt.xlabel('Predicted')\n",
        "    plt.ylabel('True')\n",
        "    plt.show()"
      ]
    },
    {
      "cell_type": "code",
      "execution_count": null,
      "metadata": {
        "id": "PZjFBx8-vg9P"
      },
      "outputs": [],
      "source": [
        "model_output = []\n",
        "\n",
        "for data in test_data:\n",
        "    output = nlp_ner(data[0])\n",
        "    model_output.append(output)\n",
        "\n",
        "metrics = calculate_metrics(model_output, test_data)\n",
        "calculate_confusion_matrix(model_output, test_data)\n",
        "print(metrics)"
      ]
    },
    {
      "cell_type": "code",
      "execution_count": null,
      "metadata": {
        "id": "ThV9W2iA2wPn"
      },
      "outputs": [],
      "source": [
        "def calculate_overall_metrics(metrics):\n",
        "    micro_sum = defaultdict(int)\n",
        "    macro_sum = defaultdict(float)\n",
        "\n",
        "    for label, values in metrics.items():\n",
        "        for metric, value in values.items():\n",
        "            micro_sum[metric] += value\n",
        "            macro_sum[metric] += value\n",
        "\n",
        "    num_classes = len(metrics)\n",
        "    micro_avg = {metric: value / num_classes for metric, value in micro_sum.items()}\n",
        "    macro_avg = {metric: value / num_classes for metric, value in macro_sum.items()}\n",
        "\n",
        "    return micro_avg, macro_avg"
      ]
    },
    {
      "cell_type": "code",
      "execution_count": null,
      "metadata": {
        "id": "YBsB2ver2zaT"
      },
      "outputs": [],
      "source": [
        "micro_avg, macro_avg = calculate_overall_metrics(metrics)\n",
        "print(micro_avg)\n",
        "print(macro_avg)"
      ]
    },
    {
      "cell_type": "code",
      "execution_count": null,
      "metadata": {
        "id": "rBYCgJabnhzM"
      },
      "outputs": [],
      "source": [
        "from google.colab import files\n",
        "!zip -r /content/ner.zip /content/ner\n",
        "files.download(\"/content/ner.zip\")"
      ]
    }
  ],
  "metadata": {
    "colab": {
      "provenance": []
    },
    "kernelspec": {
      "display_name": "Python 3",
      "name": "python3"
    },
    "language_info": {
      "codemirror_mode": {
        "name": "ipython",
        "version": 3
      },
      "file_extension": ".py",
      "mimetype": "text/x-python",
      "name": "python",
      "nbconvert_exporter": "python",
      "pygments_lexer": "ipython3",
      "version": "3.10.12"
    }
  },
  "nbformat": 4,
  "nbformat_minor": 0
}
